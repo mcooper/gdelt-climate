{
 "cells": [
  {
   "cell_type": "markdown",
   "metadata": {},
   "source": [
    "# GDELT Knowledge Graph data pull"
   ]
  },
  {
   "cell_type": "markdown",
   "metadata": {},
   "source": [
    "## From raw data"
   ]
  },
  {
   "cell_type": "code",
   "execution_count": 2,
   "metadata": {},
   "outputs": [],
   "source": [
    "import pandas as pd\n",
    "import numpy as np\n",
    "import re\n",
    "import time\n",
    "import ast\n",
    "import os\n",
    "import urllib\n",
    "from urllib.request import Request, urlopen\n",
    "#outfile = '/datadrive/gdelt/climate_change.csv'\n",
    "outfile = './local_debugging.csv'\n",
    "errfile = './err_paths.txt'"
   ]
  },
  {
   "cell_type": "code",
   "execution_count": 3,
   "metadata": {},
   "outputs": [
    {
     "data": {
      "text/plain": [
       "'C:\\\\Users\\\\Leonardzh\\\\ssd500\\\\sesync\\\\codes\\\\gdelt-climate'"
      ]
     },
     "execution_count": 3,
     "metadata": {},
     "output_type": "execute_result"
    }
   ],
   "source": [
    "os.getcwd()"
   ]
  },
  {
   "cell_type": "code",
   "execution_count": null,
   "metadata": {},
   "outputs": [],
   "source": []
  },
  {
   "cell_type": "code",
   "execution_count": 4,
   "metadata": {},
   "outputs": [],
   "source": [
    "#assign fields name\n",
    "fields = ['GKGRECORDID','DATE','SOURCECOLLECTIONIDENTIFIER','SOURCECOMMONNAME','DOCUMENTIDENTIFIER',\n",
    "          'V1COUNTS','V2COUNTS','THEMES','V2THEMES','LOCATIONS','V2LOCATIONS',\n",
    "          'PERSONS','V2PERSONS','ORGANIZATIONS','V2ORGANIZATIONS','TONE','V2DATES',\n",
    "          'GCAM','SHARINGIMAGE','RELATEDIMAGES','SOCIALIMAGEEMBEDS','SOCIALVIDEOEMBEDS',\n",
    "          'QUOTATIONS','ALLNAMES','AMOUNTS','TRANSLATIONINFO','EXTRASXML']"
   ]
  },
  {
   "cell_type": "code",
   "execution_count": null,
   "metadata": {},
   "outputs": [],
   "source": []
  },
  {
   "cell_type": "code",
   "execution_count": 20,
   "metadata": {},
   "outputs": [],
   "source": [
    "def extract_us_locations(full_loc_str):\n",
    "    loc_str_list = full_loc_str.split(';')\n",
    "    loc_us_list = []\n",
    "    loc_us_dict = {}\n",
    "    for loc_str in loc_str_list:\n",
    "        if int(loc_str.split('#')[0]) == 2 or int(loc_str.split('#')[0]) == 3:\n",
    "            #loc_us_list.append((loc_str.split('#')[0],loc_str.split('#')[1],loc_str.split('#')[5],loc_str.split('#')[6]))\n",
    "            loc_us_dict[loc_str.split('#')[1]] = [loc_str.split('#')[0],loc_str.split('#')[1],loc_str.split('#')[5],loc_str.split('#')[6]]\n",
    "    return loc_us_dict"
   ]
  },
  {
   "cell_type": "code",
   "execution_count": 21,
   "metadata": {},
   "outputs": [],
   "source": [
    "def extract_theme_by_key(full_theme_str,key):\n",
    "    theme_str_list = full_theme_str.split(';')\n",
    "    flag = False\n",
    "    match_themes = []\n",
    "    for theme_str in theme_str_list:\n",
    "        res = re.findall(f'(.*?{key}.*?),',theme_str)\n",
    "        if len(res) > 0:\n",
    "            match_themes.append(res[0])\n",
    "            flag=True\n",
    "    return flag,match_themes"
   ]
  },
  {
   "cell_type": "code",
   "execution_count": 41,
   "metadata": {},
   "outputs": [
    {
     "data": {
      "text/plain": [
       "28"
      ]
     },
     "execution_count": 41,
     "metadata": {},
     "output_type": "execute_result"
    }
   ],
   "source": [
    "#test performance for one file\n",
    "gkg_pull_one = pd.read_csv('20201217153000.gkg.csv',sep='\\t',engine='python',header=None)\n",
    "gkg_pull_one.columns = fields\n",
    "results = []\n",
    "for record_tuple in gkg_pull_one[gkg_pull_one.SOURCECOLLECTIONIDENTIFIER==1].itertuples():\n",
    "    full_theme_str = record_tuple[9]\n",
    "    if not full_theme_str or full_theme_str is np.nan:\n",
    "        #no theme\n",
    "        pass\n",
    "    else:\n",
    "        #print(full_theme_str)\n",
    "        #flag,match_themes = extract_theme_by_key(full_theme_str,'CLIMATE.?CHANGE')\n",
    "        flag,match_themes = extract_theme_by_key(full_theme_str,'LOCAL')\n",
    "        #flag2,match_themes2 = extract_theme_by_key(full_theme_str,'CLIMATECHANGE')\n",
    "        \n",
    "        if flag:\n",
    "            #print(match_themes)\n",
    "            full_loc_str = record_tuple[11]\n",
    "            #print(full_loc_str)\n",
    "            if not full_loc_str or full_loc_str is np.nan:\n",
    "                pass\n",
    "            else:\n",
    "                us_locations = extract_us_locations(full_loc_str)\n",
    "                if (len(us_locations) > 0):\n",
    "                    results.append((record_tuple[1],record_tuple[4],record_tuple[5],us_locations))\n",
    "\n",
    "len(results)"
   ]
  },
  {
   "cell_type": "code",
   "execution_count": 45,
   "metadata": {},
   "outputs": [
    {
     "data": {
      "text/plain": [
       "'https://www.cbs8.com/article/news/health/coronavirus/close-but-not-yet-deal-near-on-covid-19-relief-bill-second-stimulus-check-thursday-updates/507-f895cb0d-a6d2-4956-b167-5c59d50e0a89'"
      ]
     },
     "execution_count": 45,
     "metadata": {},
     "output_type": "execute_result"
    }
   ],
   "source": [
    "pd.DataFrame(results).loc[24][2]"
   ]
  },
  {
   "cell_type": "code",
   "execution_count": 23,
   "metadata": {},
   "outputs": [],
   "source": [
    "pd.DataFrame(results).to_csv(outfile,index_label=False)"
   ]
  },
  {
   "cell_type": "code",
   "execution_count": 24,
   "metadata": {},
   "outputs": [],
   "source": [
    "df = pd.read_csv(outfile)"
   ]
  },
  {
   "cell_type": "code",
   "execution_count": 25,
   "metadata": {},
   "outputs": [
    {
     "data": {
      "text/plain": [
       "\"{'Cannon Beach, Oregon, United States': ['3', 'Cannon Beach, Oregon, United States', '45.8918', '-123.962'], 'Haystack Rock, Oregon, United States': ['3', 'Haystack Rock, Oregon, United States', '43.0862', '-124.438'], 'California, United States': ['2', 'California, United States', '36.17', '-119.746'], 'Oregon, United States': ['2', 'Oregon, United States', '44.5672', '-122.127'], 'Washington, Washington, United States': ['3', 'Washington, Washington, United States', '38.8951', '-77.0364']}\""
      ]
     },
     "execution_count": 25,
     "metadata": {},
     "output_type": "execute_result"
    }
   ],
   "source": []
  },
  {
   "cell_type": "code",
   "execution_count": 28,
   "metadata": {},
   "outputs": [
    {
     "data": {
      "text/plain": [
       "{'Cannon Beach, Oregon, United States': ['3',\n",
       "  'Cannon Beach, Oregon, United States',\n",
       "  '45.8918',\n",
       "  '-123.962'],\n",
       " 'Haystack Rock, Oregon, United States': ['3',\n",
       "  'Haystack Rock, Oregon, United States',\n",
       "  '43.0862',\n",
       "  '-124.438'],\n",
       " 'California, United States': ['2',\n",
       "  'California, United States',\n",
       "  '36.17',\n",
       "  '-119.746'],\n",
       " 'Oregon, United States': ['2',\n",
       "  'Oregon, United States',\n",
       "  '44.5672',\n",
       "  '-122.127'],\n",
       " 'Washington, Washington, United States': ['3',\n",
       "  'Washington, Washington, United States',\n",
       "  '38.8951',\n",
       "  '-77.0364']}"
      ]
     },
     "execution_count": 28,
     "metadata": {},
     "output_type": "execute_result"
    }
   ],
   "source": [
    "ast.literal_eval(df['2'][0])"
   ]
  },
  {
   "cell_type": "code",
   "execution_count": 32,
   "metadata": {},
   "outputs": [
    {
     "data": {
      "text/plain": [
       "598668"
      ]
     },
     "execution_count": 32,
     "metadata": {},
     "output_type": "execute_result"
    }
   ],
   "source": [
    "len(lines)"
   ]
  },
  {
   "cell_type": "code",
   "execution_count": 54,
   "metadata": {},
   "outputs": [
    {
     "name": "stdout",
     "output_type": "stream",
     "text": [
      "1/199541 done with valid news count 16. 0 error loading. http://data.gdeltproject.org/gdeltv2/20201217151500.gkg.csv.zip accumulated run time 3.587791919708252s \n",
      "2/199541 done with valid news count 19. 0 error loading. http://data.gdeltproject.org/gdeltv2/20201217153000.gkg.csv.zip accumulated run time 11.145204067230225s \n",
      "3/199541 done with valid news count 11. 0 error loading. http://data.gdeltproject.org/gdeltv2/20201217154500.gkg.csv.zip accumulated run time 14.640212059020996s \n",
      "4/199541 done with valid news count 21. 0 error loading. http://data.gdeltproject.org/gdeltv2/20201217160000.gkg.csv.zip accumulated run time 20.565479040145874s \n",
      "5/199541 done with valid news count 14. 0 error loading. http://data.gdeltproject.org/gdeltv2/20201217161500.gkg.csv.zip accumulated run time 28.325597047805786s \n",
      "6/199541 done with valid news count 12. 0 error loading. http://data.gdeltproject.org/gdeltv2/20201217163000.gkg.csv.zip accumulated run time 32.52955603599548s \n",
      "7/199541 done with valid news count 14. 0 error loading. http://data.gdeltproject.org/gdeltv2/20201217164500.gkg.csv.zip accumulated run time 36.868226051330566s \n",
      "8/199541 done with valid news count 21. 0 error loading. http://data.gdeltproject.org/gdeltv2/20201217170000.gkg.csv.zip accumulated run time 40.32030892372131s \n",
      "9/199541 done with valid news count 11. 0 error loading. http://data.gdeltproject.org/gdeltv2/20201217171500.gkg.csv.zip accumulated run time 45.068138122558594s \n",
      "10/199541 done with valid news count 12. 0 error loading. http://data.gdeltproject.org/gdeltv2/20201217173000.gkg.csv.zip accumulated run time 51.623465061187744s \n"
     ]
    }
   ],
   "source": [
    "import pandas as pd\n",
    "import numpy as np\n",
    "import re\n",
    "import time\n",
    "import ast\n",
    "#outfile = '/datadrive/liuz/climate_change_news_us_loca.csv'\n",
    "outfile = './append_debugging_climate_change_news_us_loca.csv'\n",
    "#errfile = '/datadrive/liuz/climate_change_news_us_errfile.txt'\n",
    "errfile = './error_debugging_climate_change_news_us_err.csv'\n",
    "#assign fields name\n",
    "fields = ['GKGRECORDID','DATE','SOURCECOLLECTIONIDENTIFIER','SOURCECOMMONNAME','DOCUMENTIDENTIFIER',\n",
    "          'V1COUNTS','V2COUNTS','THEMES','V2THEMES','LOCATIONS','V2LOCATIONS',\n",
    "          'PERSONS','V2PERSONS','ORGANIZATIONS','V2ORGANIZATIONS','TONE','V2DATES',\n",
    "          'GCAM','SHARINGIMAGE','RELATEDIMAGES','SOCIALIMAGEEMBEDS','SOCIALVIDEOEMBEDS',\n",
    "          'QUOTATIONS','ALLNAMES','AMOUNTS','TRANSLATIONINFO','EXTRASXML']\n",
    "\n",
    "def extract_us_locations(full_loc_str):\n",
    "    loc_str_list = full_loc_str.split(';')\n",
    "    loc_us_list = []\n",
    "    loc_us_dict = {}\n",
    "    for loc_str in loc_str_list:\n",
    "        if int(loc_str.split('#')[0]) == 2 or int(loc_str.split('#')[0]) == 3:\n",
    "            #loc_us_list.append((loc_str.split('#')[0],loc_str.split('#')[1],loc_str.split('#')[5],loc_str.split('#')[6]))\n",
    "            loc_us_dict[loc_str.split('#')[1]] = [loc_str.split('#')[0],loc_str.split('#')[1],loc_str.split('#')[5],loc_str.split('#')[6]]\n",
    "    return loc_us_dict\n",
    "\n",
    "def extract_theme_by_key(full_theme_str,key):\n",
    "    theme_str_list = full_theme_str.split(';')\n",
    "    flag = False\n",
    "    match_themes = []\n",
    "    for theme_str in theme_str_list:\n",
    "        res = re.findall(f'(.*?{key}.*?),',theme_str)\n",
    "        if len(res) > 0:\n",
    "            match_themes.append(res[0])\n",
    "            flag=True\n",
    "    return flag,match_themes\n",
    "\n",
    "#get all gkg file paths and download latest 500\n",
    "gkg_file_list = []\n",
    "with open('masterfilelist.txt') as fo:\n",
    "    lines = fo.readlines()\n",
    "for line in lines:\n",
    "    url = line.split(' ')[-1].rstrip('\\n')\n",
    "    res = re.match('.*.gkg..*',url)\n",
    "    if res:\n",
    "        #print(url)\n",
    "        gkg_file_list.append(url)\n",
    "\n",
    "# extract geoinformation for climate related news\n",
    "\n",
    "error_fpaths = []\n",
    "t0 = time.time()\n",
    "count = 0\n",
    "total = len(gkg_file_list)\n",
    "for fpath in gkg_file_list[-10:]:\n",
    "    results = []\n",
    "    count += 1\n",
    "    try:\n",
    "        gkg_pull_one = pd.read_csv(fpath,sep='\\t',engine='python',header=None,encoding='latin_1')\n",
    "    except:\n",
    "        print(f'error met {fpath}')\n",
    "        error_fpaths.append(fpath)\n",
    "        continue\n",
    "    gkg_pull_one.columns = fields\n",
    "    #test performance for one file\n",
    "    for record_tuple in gkg_pull_one[gkg_pull_one.SOURCECOLLECTIONIDENTIFIER == 1].itertuples():\n",
    "        full_theme_str = record_tuple[9]\n",
    "        #print(full_theme_str)\n",
    "        if not full_theme_str or full_theme_str is np.nan:\n",
    "            #no theme\n",
    "            pass\n",
    "        else:\n",
    "            #print(len(full_theme_str))\n",
    "            flag,match_themes = extract_theme_by_key(full_theme_str,'CLIMATE.?CHANGE')\n",
    "            if flag:\n",
    "                full_loc_str = record_tuple[11]\n",
    "                if not full_loc_str or full_loc_str is np.nan:\n",
    "                    pass\n",
    "                else:\n",
    "                    us_locations = extract_us_locations(full_loc_str)\n",
    "                    if (len(us_locations) > 0):\n",
    "                        results.append({'nid':record_tuple[1],'domain':record_tuple[4],'url':record_tuple[5],'locations':us_locations})\n",
    "    t1 = time.time()\n",
    "    \n",
    "    print(f'{count}/{total} done with valid news count {len(results)}. {len(error_fpaths)} error loading. {fpath} accumulated run time {t1-t0}s ')\n",
    "\n",
    "    pd.DataFrame(results).to_csv(outfile,mode = 'a',index=False,header=False)\n",
    "    with open(errfile, 'w') as f:\n",
    "        for item in error_fpaths:\n",
    "            f.write(f\"{item}\\n\")"
   ]
  },
  {
   "cell_type": "code",
   "execution_count": 6,
   "metadata": {},
   "outputs": [
    {
     "data": {
      "text/html": [
       "<div>\n",
       "<style scoped>\n",
       "    .dataframe tbody tr th:only-of-type {\n",
       "        vertical-align: middle;\n",
       "    }\n",
       "\n",
       "    .dataframe tbody tr th {\n",
       "        vertical-align: top;\n",
       "    }\n",
       "\n",
       "    .dataframe thead th {\n",
       "        text-align: right;\n",
       "    }\n",
       "</style>\n",
       "<table border=\"1\" class=\"dataframe\">\n",
       "  <thead>\n",
       "    <tr style=\"text-align: right;\">\n",
       "      <th></th>\n",
       "      <th>nid</th>\n",
       "      <th>domain</th>\n",
       "      <th>url</th>\n",
       "      <th>dict_loc</th>\n",
       "    </tr>\n",
       "  </thead>\n",
       "  <tbody>\n",
       "    <tr>\n",
       "      <th>0</th>\n",
       "      <td>20150218230000-221</td>\n",
       "      <td>insidebelleville.com</td>\n",
       "      <td>http://www.insidebelleville.com/news-story/534...</td>\n",
       "      <td>{'Alaskan, United States': ['2', 'Alaskan, Uni...</td>\n",
       "    </tr>\n",
       "    <tr>\n",
       "      <th>1</th>\n",
       "      <td>20150218230000-365</td>\n",
       "      <td>huffingtonpost.com</td>\n",
       "      <td>http://www.huffingtonpost.com/2015/02/18/huffp...</td>\n",
       "      <td>{'Capitol Hill, District Of Columbia, United S...</td>\n",
       "    </tr>\n",
       "    <tr>\n",
       "      <th>2</th>\n",
       "      <td>20150218230000-510</td>\n",
       "      <td>salon.com</td>\n",
       "      <td>http://www.salon.com/2015/02/17/heat_waves_dow...</td>\n",
       "      <td>{'New York, United States': ['2', 'New York, U...</td>\n",
       "    </tr>\n",
       "    <tr>\n",
       "      <th>3</th>\n",
       "      <td>20150218230000-906</td>\n",
       "      <td>courant.com</td>\n",
       "      <td>http://www.courant.com/opinion/op-ed/hc-op-tho...</td>\n",
       "      <td>{'Washington, District Of Columbia, United Sta...</td>\n",
       "    </tr>\n",
       "    <tr>\n",
       "      <th>4</th>\n",
       "      <td>20150218230000-1109</td>\n",
       "      <td>huffingtonpost.com</td>\n",
       "      <td>http://www.huffingtonpost.com/carol-kellermann...</td>\n",
       "      <td>{'Boston, Massachusetts, United States': ['3',...</td>\n",
       "    </tr>\n",
       "  </tbody>\n",
       "</table>\n",
       "</div>"
      ],
      "text/plain": [
       "                   nid                domain  \\\n",
       "0   20150218230000-221  insidebelleville.com   \n",
       "1   20150218230000-365    huffingtonpost.com   \n",
       "2   20150218230000-510             salon.com   \n",
       "3   20150218230000-906           courant.com   \n",
       "4  20150218230000-1109    huffingtonpost.com   \n",
       "\n",
       "                                                 url  \\\n",
       "0  http://www.insidebelleville.com/news-story/534...   \n",
       "1  http://www.huffingtonpost.com/2015/02/18/huffp...   \n",
       "2  http://www.salon.com/2015/02/17/heat_waves_dow...   \n",
       "3  http://www.courant.com/opinion/op-ed/hc-op-tho...   \n",
       "4  http://www.huffingtonpost.com/carol-kellermann...   \n",
       "\n",
       "                                            dict_loc  \n",
       "0  {'Alaskan, United States': ['2', 'Alaskan, Uni...  \n",
       "1  {'Capitol Hill, District Of Columbia, United S...  \n",
       "2  {'New York, United States': ['2', 'New York, U...  \n",
       "3  {'Washington, District Of Columbia, United Sta...  \n",
       "4  {'Boston, Massachusetts, United States': ['3',...  "
      ]
     },
     "execution_count": 6,
     "metadata": {},
     "output_type": "execute_result"
    }
   ],
   "source": [
    "ccresults =pd.read_csv('../../data/climate_change_news_us_loca.csv',header=None)\n",
    "ccresults.columns = ['nid','domain','url','dict_loc']\n",
    "\n",
    "ccresults.head()"
   ]
  },
  {
   "cell_type": "code",
   "execution_count": 7,
   "metadata": {},
   "outputs": [],
   "source": [
    "ccexpand_records = []\n",
    "for entry in ccresults.itertuples():\n",
    "    #print(entry[4])\n",
    "    nid = entry[1]\n",
    "    url = entry[3]\n",
    "    domain = entry[2]\n",
    "    dict_loca = ast.literal_eval(entry[4])\n",
    "    for loc in list(dict_loca.values()):\n",
    "        place = loc[1]\n",
    "        lat = loc[2]\n",
    "        lng = loc[3]\n",
    "        ccexpand_records.append({'nid':nid,'domain':domain,'url':url,'place':place,'lat':lat,'lng':lng})"
   ]
  },
  {
   "cell_type": "code",
   "execution_count": 8,
   "metadata": {},
   "outputs": [],
   "source": [
    "ccfull_df = pd.DataFrame(ccexpand_records)"
   ]
  },
  {
   "cell_type": "code",
   "execution_count": 9,
   "metadata": {},
   "outputs": [
    {
     "data": {
      "text/html": [
       "<div>\n",
       "<style scoped>\n",
       "    .dataframe tbody tr th:only-of-type {\n",
       "        vertical-align: middle;\n",
       "    }\n",
       "\n",
       "    .dataframe tbody tr th {\n",
       "        vertical-align: top;\n",
       "    }\n",
       "\n",
       "    .dataframe thead th {\n",
       "        text-align: right;\n",
       "    }\n",
       "</style>\n",
       "<table border=\"1\" class=\"dataframe\">\n",
       "  <thead>\n",
       "    <tr style=\"text-align: right;\">\n",
       "      <th></th>\n",
       "      <th>nid</th>\n",
       "      <th>domain</th>\n",
       "      <th>url</th>\n",
       "      <th>place</th>\n",
       "      <th>lat</th>\n",
       "      <th>lng</th>\n",
       "    </tr>\n",
       "  </thead>\n",
       "  <tbody>\n",
       "    <tr>\n",
       "      <th>count</th>\n",
       "      <td>14294532</td>\n",
       "      <td>14293205</td>\n",
       "      <td>14294532</td>\n",
       "      <td>14294532</td>\n",
       "      <td>14294532</td>\n",
       "      <td>14294532</td>\n",
       "    </tr>\n",
       "    <tr>\n",
       "      <th>unique</th>\n",
       "      <td>3432899</td>\n",
       "      <td>31127</td>\n",
       "      <td>3435942</td>\n",
       "      <td>90374</td>\n",
       "      <td>64311</td>\n",
       "      <td>61952</td>\n",
       "    </tr>\n",
       "    <tr>\n",
       "      <th>top</th>\n",
       "      <td>20200620183000-913</td>\n",
       "      <td>yahoo.com</td>\n",
       "      <td>https://www.nj.com/news/2020/06/nj-places-of-w...</td>\n",
       "      <td>California, United States</td>\n",
       "      <td>38.8951</td>\n",
       "      <td>-77.0364</td>\n",
       "    </tr>\n",
       "    <tr>\n",
       "      <th>freq</th>\n",
       "      <td>218</td>\n",
       "      <td>151309</td>\n",
       "      <td>218</td>\n",
       "      <td>807786</td>\n",
       "      <td>1564576</td>\n",
       "      <td>1564670</td>\n",
       "    </tr>\n",
       "  </tbody>\n",
       "</table>\n",
       "</div>"
      ],
      "text/plain": [
       "                       nid     domain  \\\n",
       "count             14294532   14293205   \n",
       "unique             3432899      31127   \n",
       "top     20200620183000-913  yahoo.com   \n",
       "freq                   218     151309   \n",
       "\n",
       "                                                      url  \\\n",
       "count                                            14294532   \n",
       "unique                                            3435942   \n",
       "top     https://www.nj.com/news/2020/06/nj-places-of-w...   \n",
       "freq                                                  218   \n",
       "\n",
       "                            place       lat       lng  \n",
       "count                    14294532  14294532  14294532  \n",
       "unique                      90374     64311     61952  \n",
       "top     California, United States   38.8951  -77.0364  \n",
       "freq                       807786   1564576   1564670  "
      ]
     },
     "execution_count": 9,
     "metadata": {},
     "output_type": "execute_result"
    }
   ],
   "source": [
    "ccfull_df.describe()"
   ]
  },
  {
   "cell_type": "code",
   "execution_count": 53,
   "metadata": {},
   "outputs": [],
   "source": [
    "ccresults['dt'] = ccresults['nid'].map(lambda x: nid_to_datetime(x))"
   ]
  },
  {
   "cell_type": "code",
   "execution_count": 54,
   "metadata": {},
   "outputs": [],
   "source": [
    "ccresults['int_days'] = ccresults['dt'].map(lambda x: dt_to_yymmdd_int(x))"
   ]
  },
  {
   "cell_type": "code",
   "execution_count": 55,
   "metadata": {},
   "outputs": [
    {
     "data": {
      "text/html": [
       "<div>\n",
       "<style scoped>\n",
       "    .dataframe tbody tr th:only-of-type {\n",
       "        vertical-align: middle;\n",
       "    }\n",
       "\n",
       "    .dataframe tbody tr th {\n",
       "        vertical-align: top;\n",
       "    }\n",
       "\n",
       "    .dataframe thead th {\n",
       "        text-align: right;\n",
       "    }\n",
       "</style>\n",
       "<table border=\"1\" class=\"dataframe\">\n",
       "  <thead>\n",
       "    <tr style=\"text-align: right;\">\n",
       "      <th></th>\n",
       "      <th>nid</th>\n",
       "      <th>domain</th>\n",
       "      <th>url</th>\n",
       "      <th>dict_loc</th>\n",
       "      <th>dt</th>\n",
       "      <th>int_days</th>\n",
       "    </tr>\n",
       "  </thead>\n",
       "  <tbody>\n",
       "    <tr>\n",
       "      <th>0</th>\n",
       "      <td>20150218230000-221</td>\n",
       "      <td>insidebelleville.com</td>\n",
       "      <td>http://www.insidebelleville.com/news-story/534...</td>\n",
       "      <td>{'Alaskan, United States': ['2', 'Alaskan, Uni...</td>\n",
       "      <td>2015-02-18 23:00:00</td>\n",
       "      <td>20150218</td>\n",
       "    </tr>\n",
       "    <tr>\n",
       "      <th>1</th>\n",
       "      <td>20150218230000-365</td>\n",
       "      <td>huffingtonpost.com</td>\n",
       "      <td>http://www.huffingtonpost.com/2015/02/18/huffp...</td>\n",
       "      <td>{'Capitol Hill, District Of Columbia, United S...</td>\n",
       "      <td>2015-02-18 23:00:00</td>\n",
       "      <td>20150218</td>\n",
       "    </tr>\n",
       "    <tr>\n",
       "      <th>2</th>\n",
       "      <td>20150218230000-510</td>\n",
       "      <td>salon.com</td>\n",
       "      <td>http://www.salon.com/2015/02/17/heat_waves_dow...</td>\n",
       "      <td>{'New York, United States': ['2', 'New York, U...</td>\n",
       "      <td>2015-02-18 23:00:00</td>\n",
       "      <td>20150218</td>\n",
       "    </tr>\n",
       "    <tr>\n",
       "      <th>3</th>\n",
       "      <td>20150218230000-906</td>\n",
       "      <td>courant.com</td>\n",
       "      <td>http://www.courant.com/opinion/op-ed/hc-op-tho...</td>\n",
       "      <td>{'Washington, District Of Columbia, United Sta...</td>\n",
       "      <td>2015-02-18 23:00:00</td>\n",
       "      <td>20150218</td>\n",
       "    </tr>\n",
       "    <tr>\n",
       "      <th>4</th>\n",
       "      <td>20150218230000-1109</td>\n",
       "      <td>huffingtonpost.com</td>\n",
       "      <td>http://www.huffingtonpost.com/carol-kellermann...</td>\n",
       "      <td>{'Boston, Massachusetts, United States': ['3',...</td>\n",
       "      <td>2015-02-18 23:00:00</td>\n",
       "      <td>20150218</td>\n",
       "    </tr>\n",
       "    <tr>\n",
       "      <th>...</th>\n",
       "      <td>...</td>\n",
       "      <td>...</td>\n",
       "      <td>...</td>\n",
       "      <td>...</td>\n",
       "      <td>...</td>\n",
       "      <td>...</td>\n",
       "    </tr>\n",
       "    <tr>\n",
       "      <th>3435937</th>\n",
       "      <td>20201217173000-2033</td>\n",
       "      <td>prnewswire.com</td>\n",
       "      <td>https://www.prnewswire.com/news-releases/advan...</td>\n",
       "      <td>{'Texas, United States': ['2', 'Texas, United ...</td>\n",
       "      <td>2020-12-17 17:30:00</td>\n",
       "      <td>20201217</td>\n",
       "    </tr>\n",
       "    <tr>\n",
       "      <th>3435938</th>\n",
       "      <td>20201217173000-2071</td>\n",
       "      <td>reuters.com</td>\n",
       "      <td>https://www.reuters.com/article/usa-biden-rega...</td>\n",
       "      <td>{'Environmental Protection Agency, District Of...</td>\n",
       "      <td>2020-12-17 17:30:00</td>\n",
       "      <td>20201217</td>\n",
       "    </tr>\n",
       "    <tr>\n",
       "      <th>3435939</th>\n",
       "      <td>20201217173000-2087</td>\n",
       "      <td>autoblog.com</td>\n",
       "      <td>https://www.autoblog.com/2020/12/17/ford-bronc...</td>\n",
       "      <td>{'Dearborn, Michigan, United States': ['3', 'D...</td>\n",
       "      <td>2020-12-17 17:30:00</td>\n",
       "      <td>20201217</td>\n",
       "    </tr>\n",
       "    <tr>\n",
       "      <th>3435940</th>\n",
       "      <td>20201217173000-2104</td>\n",
       "      <td>msn.com</td>\n",
       "      <td>https://www.msn.com/en-gb/lifestyle/style/dodg...</td>\n",
       "      <td>{'New York, United States': ['2', 'New York, U...</td>\n",
       "      <td>2020-12-17 17:30:00</td>\n",
       "      <td>20201217</td>\n",
       "    </tr>\n",
       "    <tr>\n",
       "      <th>3435941</th>\n",
       "      <td>20201217173000-2157</td>\n",
       "      <td>usni.org</td>\n",
       "      <td>https://news.usni.org/2020/12/17/u-s-needs-res...</td>\n",
       "      <td>{'Washington, Washington, United States': ['3'...</td>\n",
       "      <td>2020-12-17 17:30:00</td>\n",
       "      <td>20201217</td>\n",
       "    </tr>\n",
       "  </tbody>\n",
       "</table>\n",
       "<p>3435942 rows × 6 columns</p>\n",
       "</div>"
      ],
      "text/plain": [
       "                         nid                domain  \\\n",
       "0         20150218230000-221  insidebelleville.com   \n",
       "1         20150218230000-365    huffingtonpost.com   \n",
       "2         20150218230000-510             salon.com   \n",
       "3         20150218230000-906           courant.com   \n",
       "4        20150218230000-1109    huffingtonpost.com   \n",
       "...                      ...                   ...   \n",
       "3435937  20201217173000-2033        prnewswire.com   \n",
       "3435938  20201217173000-2071           reuters.com   \n",
       "3435939  20201217173000-2087          autoblog.com   \n",
       "3435940  20201217173000-2104               msn.com   \n",
       "3435941  20201217173000-2157              usni.org   \n",
       "\n",
       "                                                       url  \\\n",
       "0        http://www.insidebelleville.com/news-story/534...   \n",
       "1        http://www.huffingtonpost.com/2015/02/18/huffp...   \n",
       "2        http://www.salon.com/2015/02/17/heat_waves_dow...   \n",
       "3        http://www.courant.com/opinion/op-ed/hc-op-tho...   \n",
       "4        http://www.huffingtonpost.com/carol-kellermann...   \n",
       "...                                                    ...   \n",
       "3435937  https://www.prnewswire.com/news-releases/advan...   \n",
       "3435938  https://www.reuters.com/article/usa-biden-rega...   \n",
       "3435939  https://www.autoblog.com/2020/12/17/ford-bronc...   \n",
       "3435940  https://www.msn.com/en-gb/lifestyle/style/dodg...   \n",
       "3435941  https://news.usni.org/2020/12/17/u-s-needs-res...   \n",
       "\n",
       "                                                  dict_loc  \\\n",
       "0        {'Alaskan, United States': ['2', 'Alaskan, Uni...   \n",
       "1        {'Capitol Hill, District Of Columbia, United S...   \n",
       "2        {'New York, United States': ['2', 'New York, U...   \n",
       "3        {'Washington, District Of Columbia, United Sta...   \n",
       "4        {'Boston, Massachusetts, United States': ['3',...   \n",
       "...                                                    ...   \n",
       "3435937  {'Texas, United States': ['2', 'Texas, United ...   \n",
       "3435938  {'Environmental Protection Agency, District Of...   \n",
       "3435939  {'Dearborn, Michigan, United States': ['3', 'D...   \n",
       "3435940  {'New York, United States': ['2', 'New York, U...   \n",
       "3435941  {'Washington, Washington, United States': ['3'...   \n",
       "\n",
       "                         dt  int_days  \n",
       "0       2015-02-18 23:00:00  20150218  \n",
       "1       2015-02-18 23:00:00  20150218  \n",
       "2       2015-02-18 23:00:00  20150218  \n",
       "3       2015-02-18 23:00:00  20150218  \n",
       "4       2015-02-18 23:00:00  20150218  \n",
       "...                     ...       ...  \n",
       "3435937 2020-12-17 17:30:00  20201217  \n",
       "3435938 2020-12-17 17:30:00  20201217  \n",
       "3435939 2020-12-17 17:30:00  20201217  \n",
       "3435940 2020-12-17 17:30:00  20201217  \n",
       "3435941 2020-12-17 17:30:00  20201217  \n",
       "\n",
       "[3435942 rows x 6 columns]"
      ]
     },
     "execution_count": 55,
     "metadata": {},
     "output_type": "execute_result"
    }
   ],
   "source": [
    "ccresults"
   ]
  },
  {
   "cell_type": "code",
   "execution_count": 67,
   "metadata": {},
   "outputs": [],
   "source": [
    "ccresults['deltaday'] = ccresults['dt'].map(lambda x: dt_to_day_delta(x))\n",
    "\n",
    "ccresults.groupby('int_days').agg({'domain':'count'}).reset_index()\n",
    "\n",
    "import seaborn as sns\n",
    "\n",
    "sns.kdeplot(data=ccresults, x=\"deltaday\",fill=True)"
   ]
  },
  {
   "cell_type": "code",
   "execution_count": 35,
   "metadata": {},
   "outputs": [],
   "source": [
    "ccfull_df['dt'] = ccfull_df['nid'].map(lambda x: nid_to_datetime(x))"
   ]
  },
  {
   "cell_type": "code",
   "execution_count": 44,
   "metadata": {},
   "outputs": [],
   "source": [
    "ccfull_df['int_days'] = ccfull_df['dt'].map(lambda x: dt_to_yymmdd_int(x))"
   ]
  },
  {
   "cell_type": "code",
   "execution_count": 49,
   "metadata": {},
   "outputs": [],
   "source": [
    "ccfull_df['suffix_id'] = ccfull_df['nid'].map(lambda x: extract_nid_suffix(x))"
   ]
  },
  {
   "cell_type": "code",
   "execution_count": 51,
   "metadata": {},
   "outputs": [
    {
     "data": {
      "text/plain": [
       "<pandas.core.groupby.generic.DataFrameGroupBy object at 0x0000018E6A6B4C40>"
      ]
     },
     "execution_count": 51,
     "metadata": {},
     "output_type": "execute_result"
    }
   ],
   "source": [
    "ccfull_df.groupby(['int_days','suffix_id']).count()"
   ]
  },
  {
   "cell_type": "code",
   "execution_count": 29,
   "metadata": {},
   "outputs": [
    {
     "data": {
      "text/plain": [
       "'20150218230000-221'"
      ]
     },
     "execution_count": 29,
     "metadata": {},
     "output_type": "execute_result"
    }
   ],
   "source": [
    "nid_str = ccfull_df['nid'][0]\n",
    "nid_str"
   ]
  },
  {
   "cell_type": "code",
   "execution_count": null,
   "metadata": {},
   "outputs": [],
   "source": []
  },
  {
   "cell_type": "code",
   "execution_count": 31,
   "metadata": {},
   "outputs": [],
   "source": [
    "dt_str = nid_str.split('-')[0]"
   ]
  },
  {
   "cell_type": "code",
   "execution_count": 32,
   "metadata": {},
   "outputs": [
    {
     "data": {
      "text/plain": [
       "'20150218230000'"
      ]
     },
     "execution_count": 32,
     "metadata": {},
     "output_type": "execute_result"
    }
   ],
   "source": [
    "dt_str"
   ]
  },
  {
   "cell_type": "code",
   "execution_count": 37,
   "metadata": {},
   "outputs": [],
   "source": [
    "dt = datetime.datetime.strptime(dt_str, '%Y%m%d%H%M%S')"
   ]
  },
  {
   "cell_type": "code",
   "execution_count": 38,
   "metadata": {},
   "outputs": [
    {
     "data": {
      "text/plain": [
       "datetime.datetime(2015, 2, 18, 23, 0)"
      ]
     },
     "execution_count": 38,
     "metadata": {},
     "output_type": "execute_result"
    }
   ],
   "source": [
    "dt"
   ]
  },
  {
   "cell_type": "code",
   "execution_count": 30,
   "metadata": {},
   "outputs": [],
   "source": [
    "import datetime"
   ]
  },
  {
   "cell_type": "code",
   "execution_count": null,
   "metadata": {},
   "outputs": [],
   "source": [
    "datetime.datetime()"
   ]
  },
  {
   "cell_type": "code",
   "execution_count": 48,
   "metadata": {},
   "outputs": [
    {
     "data": {
      "text/plain": [
       "221"
      ]
     },
     "execution_count": 48,
     "metadata": {},
     "output_type": "execute_result"
    }
   ],
   "source": [
    "extract_nid_suffix(nid_str)"
   ]
  },
  {
   "cell_type": "code",
   "execution_count": 46,
   "metadata": {},
   "outputs": [],
   "source": [
    "def extract_nid_suffix(nid_str):\n",
    "    id_str = nid_str.split('-')[1]\n",
    "    return int(id_str)"
   ]
  },
  {
   "cell_type": "code",
   "execution_count": 34,
   "metadata": {},
   "outputs": [],
   "source": [
    "def nid_to_datetime(nid_str):\n",
    "    import datetime\n",
    "    dt_str = nid_str.split('-')[0]\n",
    "    dt = datetime.datetime.strptime(dt_str, '%Y%m%d%H%M%S')\n",
    "    return dt"
   ]
  },
  {
   "cell_type": "code",
   "execution_count": 41,
   "metadata": {},
   "outputs": [
    {
     "data": {
      "text/plain": [
       "20150218"
      ]
     },
     "execution_count": 41,
     "metadata": {},
     "output_type": "execute_result"
    }
   ],
   "source": []
  },
  {
   "cell_type": "code",
   "execution_count": 60,
   "metadata": {},
   "outputs": [
    {
     "data": {
      "text/plain": [
       "datetime.datetime(2015, 2, 18, 23, 0)"
      ]
     },
     "execution_count": 60,
     "metadata": {},
     "output_type": "execute_result"
    }
   ],
   "source": [
    "dt"
   ]
  },
  {
   "cell_type": "code",
   "execution_count": 64,
   "metadata": {},
   "outputs": [
    {
     "data": {
      "text/plain": [
       "48"
      ]
     },
     "execution_count": 64,
     "metadata": {},
     "output_type": "execute_result"
    }
   ],
   "source": [
    "(dt-datetime.datetime(2015,1,1)).days"
   ]
  },
  {
   "cell_type": "code",
   "execution_count": 65,
   "metadata": {},
   "outputs": [],
   "source": [
    "def dt_to_day_delta(dt):\n",
    "    return (dt-datetime.datetime(2015,1,1)).days"
   ]
  },
  {
   "cell_type": "code",
   "execution_count": 43,
   "metadata": {},
   "outputs": [],
   "source": [
    "def dt_to_yymmdd_int(dt):\n",
    "    return dt.year*10000+dt.month*100+dt.day"
   ]
  },
  {
   "cell_type": "code",
   "execution_count": null,
   "metadata": {},
   "outputs": [],
   "source": [
    "Boulder, Colorado, United States\n",
    "Aliso Canyon, California, United States"
   ]
  },
  {
   "cell_type": "code",
   "execution_count": 75,
   "metadata": {},
   "outputs": [
    {
     "name": "stderr",
     "output_type": "stream",
     "text": [
      "<ipython-input-75-c5d6956bc895>:2: SettingWithCopyWarning: \n",
      "A value is trying to be set on a copy of a slice from a DataFrame.\n",
      "Try using .loc[row_indexer,col_indexer] = value instead\n",
      "\n",
      "See the caveats in the documentation: https://pandas.pydata.org/pandas-docs/stable/user_guide/indexing.html#returning-a-view-versus-a-copy\n",
      "  sample_df['deltaday'] = sample_df['dt'].map(lambda x: dt_to_day_delta(x))\n"
     ]
    },
    {
     "data": {
      "text/plain": [
       "<seaborn.axisgrid.FacetGrid at 0x18e6f061610>"
      ]
     },
     "execution_count": 75,
     "metadata": {},
     "output_type": "execute_result"
    },
    {
     "data": {
      "image/png": "[encoded data removed]",
      "text/plain": [
       "<Figure size 360x360 with 1 Axes>"
      ]
     },
     "metadata": {
      "needs_background": "light"
     },
     "output_type": "display_data"
    }
   ],
   "source": [
    "sample_df = ccfull_df.query('place==\"Aliso Canyon, California, United States\"')\n",
    "sample_df['deltaday'] = sample_df['dt'].map(lambda x: dt_to_day_delta(x))\n",
    "\n",
    "import seaborn as sns\n",
    "\n",
    "sns.displot(data=sample_df, x=\"deltaday\",fill=True,kind='hist')"
   ]
  },
  {
   "cell_type": "code",
   "execution_count": 72,
   "metadata": {},
   "outputs": [
    {
     "name": "stderr",
     "output_type": "stream",
     "text": [
      "<ipython-input-72-804acf9ba1c5>:2: SettingWithCopyWarning: \n",
      "A value is trying to be set on a copy of a slice from a DataFrame.\n",
      "Try using .loc[row_indexer,col_indexer] = value instead\n",
      "\n",
      "See the caveats in the documentation: https://pandas.pydata.org/pandas-docs/stable/user_guide/indexing.html#returning-a-view-versus-a-copy\n",
      "  sample_df['deltaday'] = sample_df['dt'].map(lambda x: dt_to_day_delta(x))\n"
     ]
    },
    {
     "data": {
      "text/plain": [
       "<seaborn.axisgrid.FacetGrid at 0x18e6ed080a0>"
      ]
     },
     "execution_count": 72,
     "metadata": {},
     "output_type": "execute_result"
    },
    {
     "data": {
      "image/png": "[encoded data removed]",
      "text/plain": [
       "<Figure size 360x360 with 1 Axes>"
      ]
     },
     "metadata": {
      "needs_background": "light"
     },
     "output_type": "display_data"
    }
   ],
   "source": [
    "sample_df = ccfull_df.query('place==\"Boulder, Colorado, United States\"')\n",
    "sample_df['deltaday'] = sample_df['dt'].map(lambda x: dt_to_day_delta(x))\n",
    "\n",
    "import seaborn as sns\n",
    "\n",
    "sns.displot(data=sample_df, x=\"deltaday\",fill=True,kind='hist')"
   ]
  },
  {
   "cell_type": "code",
   "execution_count": 76,
   "metadata": {},
   "outputs": [
    {
     "data": {
      "text/plain": [
       "nid                  object\n",
       "domain               object\n",
       "url                  object\n",
       "place                object\n",
       "lat                  object\n",
       "lng                  object\n",
       "dt           datetime64[ns]\n",
       "int_days              int64\n",
       "suffix_id             int64\n",
       "dtype: object"
      ]
     },
     "execution_count": 76,
     "metadata": {},
     "output_type": "execute_result"
    }
   ],
   "source": [
    "ccfull_df.dtypes"
   ]
  },
  {
   "cell_type": "code",
   "execution_count": 77,
   "metadata": {},
   "outputs": [],
   "source": [
    "place_freq = ccfull_df.groupby('place').agg({'lat':'first','lng':'first','nid':'count'}).reset_index().sort_values('nid',ascending=False)[['place','nid','lat','lng']].rename(columns={'nid':'count'})"
   ]
  },
  {
   "cell_type": "code",
   "execution_count": 83,
   "metadata": {},
   "outputs": [
    {
     "data": {
      "text/plain": [
       "-119.746"
      ]
     },
     "execution_count": 83,
     "metadata": {},
     "output_type": "execute_result"
    }
   ],
   "source": [
    "float('-119.746')"
   ]
  },
  {
   "cell_type": "code",
   "execution_count": 93,
   "metadata": {},
   "outputs": [],
   "source": [
    "place_freq = place_freq.query('lng!=\"\" and lat!=\"\"')"
   ]
  },
  {
   "cell_type": "code",
   "execution_count": 94,
   "metadata": {},
   "outputs": [],
   "source": [
    "for rid,row in place_freq.iterrows():\n",
    "    try:\n",
    "        lat = float(row['lat'])\n",
    "        lng = float(row['lng'])\n",
    "    except ValueError:\n",
    "        print (\"error on line\",row)"
   ]
  },
  {
   "cell_type": "code",
   "execution_count": 96,
   "metadata": {},
   "outputs": [],
   "source": [
    "place_freq = place_freq.astype({'lat':'float','lng':'float'})"
   ]
  },
  {
   "cell_type": "code",
   "execution_count": 97,
   "metadata": {},
   "outputs": [],
   "source": [
    "place_freq.query('count>1000').to_csv('../../data/processed/place_freq_cc_us.csv',index=False)"
   ]
  },
  {
   "cell_type": "code",
   "execution_count": 24,
   "metadata": {},
   "outputs": [
    {
     "data": {
      "text/plain": [
       "array([[<AxesSubplot:title={'center':'count'}>]], dtype=object)"
      ]
     },
     "execution_count": 24,
     "metadata": {},
     "output_type": "execute_result"
    },
    {
     "data": {
      "image/png": "[encoded data removed]",
      "text/plain": [
       "<Figure size 432x288 with 1 Axes>"
      ]
     },
     "metadata": {
      "needs_background": "light"
     },
     "output_type": "display_data"
    }
   ],
   "source": [
    "place_freq.iloc[0:50].hist('count')"
   ]
  },
  {
   "cell_type": "code",
   "execution_count": 12,
   "metadata": {},
   "outputs": [
    {
     "data": {
      "text/plain": [
       "90374"
      ]
     },
     "execution_count": 12,
     "metadata": {},
     "output_type": "execute_result"
    }
   ],
   "source": [
    "len(ccfull_df.place.unique())"
   ]
  },
  {
   "cell_type": "code",
   "execution_count": 77,
   "metadata": {},
   "outputs": [
    {
     "data": {
      "text/html": [
       "<div>\n",
       "<style scoped>\n",
       "    .dataframe tbody tr th:only-of-type {\n",
       "        vertical-align: middle;\n",
       "    }\n",
       "\n",
       "    .dataframe tbody tr th {\n",
       "        vertical-align: top;\n",
       "    }\n",
       "\n",
       "    .dataframe thead th {\n",
       "        text-align: right;\n",
       "    }\n",
       "</style>\n",
       "<table border=\"1\" class=\"dataframe\">\n",
       "  <thead>\n",
       "    <tr style=\"text-align: right;\">\n",
       "      <th></th>\n",
       "      <th>domain</th>\n",
       "      <th>nid</th>\n",
       "      <th>url</th>\n",
       "      <th>place</th>\n",
       "      <th>lat</th>\n",
       "      <th>lng</th>\n",
       "    </tr>\n",
       "  </thead>\n",
       "  <tbody>\n",
       "    <tr>\n",
       "      <th>30857</th>\n",
       "      <td>yahoo.com</td>\n",
       "      <td>151309</td>\n",
       "      <td>151309</td>\n",
       "      <td>151309</td>\n",
       "      <td>151309</td>\n",
       "      <td>151309</td>\n",
       "    </tr>\n",
       "    <tr>\n",
       "      <th>4612</th>\n",
       "      <td>catholicsentinel.org</td>\n",
       "      <td>117640</td>\n",
       "      <td>117640</td>\n",
       "      <td>117640</td>\n",
       "      <td>117640</td>\n",
       "      <td>117640</td>\n",
       "    </tr>\n",
       "    <tr>\n",
       "      <th>17456</th>\n",
       "      <td>msn.com</td>\n",
       "      <td>105128</td>\n",
       "      <td>105128</td>\n",
       "      <td>105128</td>\n",
       "      <td>105128</td>\n",
       "      <td>105128</td>\n",
       "    </tr>\n",
       "    <tr>\n",
       "      <th>12507</th>\n",
       "      <td>iheart.com</td>\n",
       "      <td>100315</td>\n",
       "      <td>100315</td>\n",
       "      <td>100315</td>\n",
       "      <td>100315</td>\n",
       "      <td>100315</td>\n",
       "    </tr>\n",
       "    <tr>\n",
       "      <th>29878</th>\n",
       "      <td>wickedlocal.com</td>\n",
       "      <td>80845</td>\n",
       "      <td>80845</td>\n",
       "      <td>80845</td>\n",
       "      <td>80845</td>\n",
       "      <td>80845</td>\n",
       "    </tr>\n",
       "    <tr>\n",
       "      <th>...</th>\n",
       "      <td>...</td>\n",
       "      <td>...</td>\n",
       "      <td>...</td>\n",
       "      <td>...</td>\n",
       "      <td>...</td>\n",
       "      <td>...</td>\n",
       "    </tr>\n",
       "    <tr>\n",
       "      <th>12997</th>\n",
       "      <td>insurance.1asig.ro</td>\n",
       "      <td>1</td>\n",
       "      <td>1</td>\n",
       "      <td>1</td>\n",
       "      <td>1</td>\n",
       "      <td>1</td>\n",
       "    </tr>\n",
       "    <tr>\n",
       "      <th>23702</th>\n",
       "      <td>skepticalraptor.com</td>\n",
       "      <td>1</td>\n",
       "      <td>1</td>\n",
       "      <td>1</td>\n",
       "      <td>1</td>\n",
       "      <td>1</td>\n",
       "    </tr>\n",
       "    <tr>\n",
       "      <th>13002</th>\n",
       "      <td>insuranceerm.com</td>\n",
       "      <td>1</td>\n",
       "      <td>1</td>\n",
       "      <td>1</td>\n",
       "      <td>1</td>\n",
       "      <td>1</td>\n",
       "    </tr>\n",
       "    <tr>\n",
       "      <th>13007</th>\n",
       "      <td>insurancesavingsinstitute.com</td>\n",
       "      <td>1</td>\n",
       "      <td>1</td>\n",
       "      <td>1</td>\n",
       "      <td>1</td>\n",
       "      <td>1</td>\n",
       "    </tr>\n",
       "    <tr>\n",
       "      <th>15563</th>\n",
       "      <td>littlelaosontheprairie.org</td>\n",
       "      <td>1</td>\n",
       "      <td>1</td>\n",
       "      <td>1</td>\n",
       "      <td>1</td>\n",
       "      <td>1</td>\n",
       "    </tr>\n",
       "  </tbody>\n",
       "</table>\n",
       "<p>31127 rows × 6 columns</p>\n",
       "</div>"
      ],
      "text/plain": [
       "                              domain     nid     url   place     lat     lng\n",
       "30857                      yahoo.com  151309  151309  151309  151309  151309\n",
       "4612            catholicsentinel.org  117640  117640  117640  117640  117640\n",
       "17456                        msn.com  105128  105128  105128  105128  105128\n",
       "12507                     iheart.com  100315  100315  100315  100315  100315\n",
       "29878                wickedlocal.com   80845   80845   80845   80845   80845\n",
       "...                              ...     ...     ...     ...     ...     ...\n",
       "12997             insurance.1asig.ro       1       1       1       1       1\n",
       "23702            skepticalraptor.com       1       1       1       1       1\n",
       "13002               insuranceerm.com       1       1       1       1       1\n",
       "13007  insurancesavingsinstitute.com       1       1       1       1       1\n",
       "15563     littlelaosontheprairie.org       1       1       1       1       1\n",
       "\n",
       "[31127 rows x 6 columns]"
      ]
     },
     "execution_count": 77,
     "metadata": {},
     "output_type": "execute_result"
    }
   ],
   "source": [
    "ccfull_df.groupby('domain').count().reset_index().sort_values('place',ascending=False)"
   ]
  },
  {
   "cell_type": "code",
   "execution_count": 68,
   "metadata": {},
   "outputs": [],
   "source": [
    "results = pd.read_csv('../../data/raw/gdelt/local_news_us_loca.csv',header=None)\n",
    "results.columns = ['nid','domain','url','dict_loc']\n",
    "\n",
    "results.head()"
   ]
  },
  {
   "cell_type": "code",
   "execution_count": 72,
   "metadata": {},
   "outputs": [
    {
     "data": {
      "text/plain": [
       "[['3', 'Atlanta, Georgia, United States', '33.749', '-84.388'],\n",
       " ['2', 'Georgia, United States', '32.9866', '-83.6487'],\n",
       " ['3', 'South Bend, Indiana, United States', '41.6834', '-86.25'],\n",
       " ['2', 'Michigan, United States', '43.3504', '-84.5603'],\n",
       " ['2', 'Indiana, United States', '39.8647', '-86.2604']]"
      ]
     },
     "execution_count": 72,
     "metadata": {},
     "output_type": "execute_result"
    }
   ],
   "source": [
    "\n",
    "dict_loca = ast.literal_eval(results.loc[4]['dict_loc'])\n",
    "list(dict_loca.values())"
   ]
  },
  {
   "cell_type": "code",
   "execution_count": 74,
   "metadata": {},
   "outputs": [
    {
     "name": "stdout",
     "output_type": "stream",
     "text": [
      "Atlanta, Georgia, United States 33.749 -84.388\n",
      "Georgia, United States 32.9866 -83.6487\n",
      "South Bend, Indiana, United States 41.6834 -86.25\n",
      "Michigan, United States 43.3504 -84.5603\n",
      "Indiana, United States 39.8647 -86.2604\n"
     ]
    }
   ],
   "source": [
    "for loc in list(dict_loca.values()):\n",
    "    print(loc[1],loc[2],loc[3])"
   ]
  },
  {
   "cell_type": "code",
   "execution_count": 20,
   "metadata": {},
   "outputs": [],
   "source": [
    "expand_records = []\n",
    "for entry in results.itertuples():\n",
    "    #print(entry[4])\n",
    "    # nid = entry[1]\n",
    "    url = entry[3]\n",
    "    domain = entry[2]\n",
    "    dict_loca = ast.literal_eval(entry[4])\n",
    "    for loc in list(dict_loca.values()):\n",
    "        place = loc[1]\n",
    "        lat = loc[2]\n",
    "        lng = loc[3]\n",
    "        expand_records.append({'domain':domain,'url':url,'place':place,'lat':lat,'lng':lng})"
   ]
  },
  {
   "cell_type": "code",
   "execution_count": 21,
   "metadata": {},
   "outputs": [],
   "source": [
    "full_df = pd.DataFrame(expand_records)"
   ]
  },
  {
   "cell_type": "code",
   "execution_count": 22,
   "metadata": {},
   "outputs": [
    {
     "data": {
      "text/html": [
       "<div>\n",
       "<style scoped>\n",
       "    .dataframe tbody tr th:only-of-type {\n",
       "        vertical-align: middle;\n",
       "    }\n",
       "\n",
       "    .dataframe tbody tr th {\n",
       "        vertical-align: top;\n",
       "    }\n",
       "\n",
       "    .dataframe thead th {\n",
       "        text-align: right;\n",
       "    }\n",
       "</style>\n",
       "<table border=\"1\" class=\"dataframe\">\n",
       "  <thead>\n",
       "    <tr style=\"text-align: right;\">\n",
       "      <th></th>\n",
       "      <th>domain</th>\n",
       "      <th>url</th>\n",
       "      <th>place</th>\n",
       "      <th>lat</th>\n",
       "      <th>lng</th>\n",
       "    </tr>\n",
       "  </thead>\n",
       "  <tbody>\n",
       "    <tr>\n",
       "      <th>count</th>\n",
       "      <td>21289052</td>\n",
       "      <td>21291478</td>\n",
       "      <td>21291478</td>\n",
       "      <td>21291478</td>\n",
       "      <td>21291478</td>\n",
       "    </tr>\n",
       "    <tr>\n",
       "      <th>unique</th>\n",
       "      <td>27003</td>\n",
       "      <td>4504053</td>\n",
       "      <td>129557</td>\n",
       "      <td>81731</td>\n",
       "      <td>84667</td>\n",
       "    </tr>\n",
       "    <tr>\n",
       "      <th>top</th>\n",
       "      <td>gwdtoday.com</td>\n",
       "      <td>https://www.nj.com/news/2020/05/where-is-the-c...</td>\n",
       "      <td>New York, United States</td>\n",
       "      <td>38.8951</td>\n",
       "      <td>-77.0364</td>\n",
       "    </tr>\n",
       "    <tr>\n",
       "      <th>freq</th>\n",
       "      <td>302420</td>\n",
       "      <td>301</td>\n",
       "      <td>1175915</td>\n",
       "      <td>1390898</td>\n",
       "      <td>1390926</td>\n",
       "    </tr>\n",
       "  </tbody>\n",
       "</table>\n",
       "</div>"
      ],
      "text/plain": [
       "              domain                                                url  \\\n",
       "count       21289052                                           21291478   \n",
       "unique         27003                                            4504053   \n",
       "top     gwdtoday.com  https://www.nj.com/news/2020/05/where-is-the-c...   \n",
       "freq          302420                                                301   \n",
       "\n",
       "                          place       lat       lng  \n",
       "count                  21291478  21291478  21291478  \n",
       "unique                   129557     81731     84667  \n",
       "top     New York, United States   38.8951  -77.0364  \n",
       "freq                    1175915   1390898   1390926  "
      ]
     },
     "execution_count": 22,
     "metadata": {},
     "output_type": "execute_result"
    }
   ],
   "source": [
    "full_df.describe()"
   ]
  },
  {
   "cell_type": "code",
   "execution_count": 53,
   "metadata": {},
   "outputs": [],
   "source": [
    "domain_count = full_df.groupby('domain').count().reset_index().sort_values('place',ascending=False)"
   ]
  },
  {
   "cell_type": "code",
   "execution_count": 55,
   "metadata": {},
   "outputs": [
    {
     "data": {
      "text/html": [
       "<div>\n",
       "<style scoped>\n",
       "    .dataframe tbody tr th:only-of-type {\n",
       "        vertical-align: middle;\n",
       "    }\n",
       "\n",
       "    .dataframe tbody tr th {\n",
       "        vertical-align: top;\n",
       "    }\n",
       "\n",
       "    .dataframe thead th {\n",
       "        text-align: right;\n",
       "    }\n",
       "</style>\n",
       "<table border=\"1\" class=\"dataframe\">\n",
       "  <thead>\n",
       "    <tr style=\"text-align: right;\">\n",
       "      <th></th>\n",
       "      <th>domain</th>\n",
       "      <th>url</th>\n",
       "      <th>place</th>\n",
       "      <th>lat</th>\n",
       "      <th>lng</th>\n",
       "    </tr>\n",
       "  </thead>\n",
       "  <tbody>\n",
       "    <tr>\n",
       "      <th>1471</th>\n",
       "      <td>amny.com</td>\n",
       "      <td>2320</td>\n",
       "      <td>2320</td>\n",
       "      <td>2320</td>\n",
       "      <td>2320</td>\n",
       "    </tr>\n",
       "    <tr>\n",
       "      <th>6232</th>\n",
       "      <td>delrionewsherald.com</td>\n",
       "      <td>2319</td>\n",
       "      <td>2319</td>\n",
       "      <td>2319</td>\n",
       "      <td>2319</td>\n",
       "    </tr>\n",
       "    <tr>\n",
       "      <th>416</th>\n",
       "      <td>921theticket.com</td>\n",
       "      <td>2318</td>\n",
       "      <td>2318</td>\n",
       "      <td>2318</td>\n",
       "      <td>2318</td>\n",
       "    </tr>\n",
       "    <tr>\n",
       "      <th>3455</th>\n",
       "      <td>burlingtonfreepress.com</td>\n",
       "      <td>2316</td>\n",
       "      <td>2316</td>\n",
       "      <td>2316</td>\n",
       "      <td>2316</td>\n",
       "    </tr>\n",
       "    <tr>\n",
       "      <th>21998</th>\n",
       "      <td>texasguardian.com</td>\n",
       "      <td>2316</td>\n",
       "      <td>2316</td>\n",
       "      <td>2316</td>\n",
       "      <td>2316</td>\n",
       "    </tr>\n",
       "    <tr>\n",
       "      <th>8545</th>\n",
       "      <td>fox42kptm.com</td>\n",
       "      <td>2315</td>\n",
       "      <td>2315</td>\n",
       "      <td>2315</td>\n",
       "      <td>2315</td>\n",
       "    </tr>\n",
       "    <tr>\n",
       "      <th>25304</th>\n",
       "      <td>wbch.com</td>\n",
       "      <td>2315</td>\n",
       "      <td>2315</td>\n",
       "      <td>2315</td>\n",
       "      <td>2315</td>\n",
       "    </tr>\n",
       "    <tr>\n",
       "      <th>17346</th>\n",
       "      <td>orlandoweekly.com</td>\n",
       "      <td>2314</td>\n",
       "      <td>2314</td>\n",
       "      <td>2314</td>\n",
       "      <td>2314</td>\n",
       "    </tr>\n",
       "    <tr>\n",
       "      <th>8524</th>\n",
       "      <td>fox17online.com</td>\n",
       "      <td>2314</td>\n",
       "      <td>2314</td>\n",
       "      <td>2314</td>\n",
       "      <td>2314</td>\n",
       "    </tr>\n",
       "    <tr>\n",
       "      <th>12151</th>\n",
       "      <td>kdwn.com</td>\n",
       "      <td>2314</td>\n",
       "      <td>2314</td>\n",
       "      <td>2314</td>\n",
       "      <td>2314</td>\n",
       "    </tr>\n",
       "    <tr>\n",
       "      <th>12498</th>\n",
       "      <td>klem1410.com</td>\n",
       "      <td>2313</td>\n",
       "      <td>2313</td>\n",
       "      <td>2313</td>\n",
       "      <td>2313</td>\n",
       "    </tr>\n",
       "    <tr>\n",
       "      <th>8136</th>\n",
       "      <td>financialpost.com</td>\n",
       "      <td>2313</td>\n",
       "      <td>2313</td>\n",
       "      <td>2313</td>\n",
       "      <td>2313</td>\n",
       "    </tr>\n",
       "  </tbody>\n",
       "</table>\n",
       "</div>"
      ],
      "text/plain": [
       "                        domain   url  place   lat   lng\n",
       "1471                  amny.com  2320   2320  2320  2320\n",
       "6232      delrionewsherald.com  2319   2319  2319  2319\n",
       "416           921theticket.com  2318   2318  2318  2318\n",
       "3455   burlingtonfreepress.com  2316   2316  2316  2316\n",
       "21998        texasguardian.com  2316   2316  2316  2316\n",
       "8545             fox42kptm.com  2315   2315  2315  2315\n",
       "25304                 wbch.com  2315   2315  2315  2315\n",
       "17346        orlandoweekly.com  2314   2314  2314  2314\n",
       "8524           fox17online.com  2314   2314  2314  2314\n",
       "12151                 kdwn.com  2314   2314  2314  2314\n",
       "12498             klem1410.com  2313   2313  2313  2313\n",
       "8136         financialpost.com  2313   2313  2313  2313"
      ]
     },
     "execution_count": 55,
     "metadata": {},
     "output_type": "execute_result"
    }
   ],
   "source": [
    "domain_count[2000:2012]"
   ]
  },
  {
   "cell_type": "code",
   "execution_count": 67,
   "metadata": {},
   "outputs": [],
   "source": [
    "for idx in range(2000,2012,1):\n",
    "    sample_domain = domain_count.iloc[idx]['domain']\n",
    "\n",
    "    #urls_gwd = full_df.query('domain == \"gwdtoday.com\"')\n",
    "    urls_sample = full_df.query('domain == @sample_domain')\n",
    "\n",
    "    #urls_gwd.groupby(['lat','lng']).count().reset_index().to_csv('../../data/raw/gdelt/loca_gwdtoday.csv')\n",
    "    urls_sample.groupby(['lat','lng']).count().reset_index().to_csv(f'../../data/raw/gdelt/local_domain/loca_{sample_domain}.csv')"
   ]
  },
  {
   "cell_type": "code",
   "execution_count": 49,
   "metadata": {},
   "outputs": [
    {
     "name": "stdout",
     "output_type": "stream",
     "text": [
      "0\n",
      "Unexpected error <urlopen error [Errno -2] Name or service not known> at http://sunny935.iheart.com/articles/features-sunny-492549/virginia-vfw-post-may-have-violated-14641241/\n",
      "Unexpected error <urlopen error [Errno -2] Name or service not known> at http://sunny935.iheart.com/articles/features-sunny-492549/virginia-vfw-post-may-have-violated-14641241/\n",
      "Unexpected error <urlopen error [Errno -2] Name or service not known> at http://newstalk1440.iheart.com/articles/247-california-news-497170/sf-city-hall-to-stay-purple-14642409/\n",
      "Unexpected error <urlopen error [Errno -2] Name or service not known> at http://newstalk1440.iheart.com/articles/247-california-news-497170/sf-city-hall-to-stay-purple-14642409/\n",
      "816 http://talk910.iheart.com/articles/247-california-news-497170/sf-city-hall-to-stay-purple-14642409/ \n",
      "817 http://talk910.iheart.com/articles/247-california-news-497170/sf-city-hall-to-stay-purple-14642409/ \n",
      "867 http://talk910.iheart.com/onair/the-mo-kelly-experience-57554/san-francisco-rapper-equipto-is-refusing-14642883/ \n",
      "Unexpected error <urlopen error [Errno -2] Name or service not known> at http://themic921.iheart.com/articles/madison-news-118857/update-kraft-heinz-announces-timeline-for-14647079/\n",
      "Unexpected error <urlopen error [Errno -2] Name or service not known> at http://themic921.iheart.com/articles/madison-news-118857/update-kraft-heinz-announces-timeline-for-14647079/\n",
      "Unexpected error <urlopen error [Errno -2] Name or service not known> at http://themic921.iheart.com/articles/madison-news-118857/update-kraft-heinz-announces-timeline-for-14647079/\n",
      "Unexpected error <urlopen error [Errno -2] Name or service not known> at http://themic921.iheart.com/articles/madison-news-118857/update-kraft-heinz-announces-timeline-for-14647079/\n",
      "Unexpected error <urlopen error [Errno -2] Name or service not known> at http://themic921.iheart.com/articles/madison-news-118857/update-kraft-heinz-announces-timeline-for-14647079/\n",
      "Unexpected error <urlopen error [Errno -2] Name or service not known> at http://themic921.iheart.com/articles/madison-news-118857/update-kraft-heinz-announces-timeline-for-14647079/\n",
      "Unexpected error <urlopen error [Errno -2] Name or service not known> at http://themic921.iheart.com/articles/madison-news-118857/update-kraft-heinz-announces-timeline-for-14647079/\n",
      "Unexpected error <urlopen error [Errno -2] Name or service not known> at http://themic921.iheart.com/articles/madison-news-118857/update-kraft-heinz-announces-timeline-for-14647079/\n",
      "Unexpected error <urlopen error [Errno -2] Name or service not known> at http://themic921.iheart.com/articles/madison-news-118857/update-kraft-heinz-announces-timeline-for-14647079/\n",
      "Unexpected error <urlopen error [Errno -2] Name or service not known> at http://themic921.iheart.com/articles/madison-news-118857/update-kraft-heinz-announces-timeline-for-14647079/\n",
      "Unexpected error <urlopen error [Errno -2] Name or service not known> at http://themic921.iheart.com/articles/madison-news-118857/update-kraft-heinz-announces-timeline-for-14647079/\n",
      "Unexpected error <urlopen error [Errno -2] Name or service not known> at http://themic921.iheart.com/articles/madison-news-118857/update-kraft-heinz-announces-timeline-for-14647079/\n",
      "1000\n",
      "Unexpected error <urlopen error [Errno -2] Name or service not known> at http://themic921.iheart.com/articles/madison-news-118857/update-officer-suspect-identified-in-officerinvolved-14673967/\n",
      "Unexpected error <urlopen error [Errno -2] Name or service not known> at http://themic921.iheart.com/articles/madison-news-118857/update-officer-suspect-identified-in-officerinvolved-14673967/\n",
      "Unexpected error <urlopen error [Errno -2] Name or service not known> at http://themic921.iheart.com/articles/madison-news-118857/update-officer-suspect-identified-in-officerinvolved-14673967/\n",
      "Unexpected error <urlopen error [Errno -2] Name or service not known> at http://newstalk1440.iheart.com/articles/247-california-news-497170/palos-verdes-officials-ignored-surf-gang-14694302/\n",
      "Unexpected error <urlopen error [Errno -2] Name or service not known> at http://newstalk1440.iheart.com/articles/247-california-news-497170/palos-verdes-officials-ignored-surf-gang-14694302/\n",
      "1143 http://talk910.iheart.com/articles/247-california-news-497170/palos-verdes-officials-ignored-surf-gang-14694302/ \n",
      "1144 http://talk910.iheart.com/articles/247-california-news-497170/palos-verdes-officials-ignored-surf-gang-14694302/ \n",
      "1325 http://mix981richmond.iheart.com/articles/local-news-128979/registration-rising-14730293/ \n",
      "1326 http://mix981richmond.iheart.com/articles/local-news-128979/registration-rising-14730293/ \n",
      "1327 http://1140wrva.iheart.com/articles/local-news-128979/registration-rising-14730293/ \n",
      "1328 http://1140wrva.iheart.com/articles/local-news-128979/registration-rising-14730293/ \n",
      "1353 http://big985country.iheart.com/articles/breaking-news-468861/metro-releases-final-safetrack-plan-14730880/ \n",
      "1354 http://big985country.iheart.com/articles/breaking-news-468861/metro-releases-final-safetrack-plan-14730880/ \n",
      "1355 http://big985country.iheart.com/articles/breaking-news-468861/metro-releases-final-safetrack-plan-14730880/ \n",
      "1356 http://big985country.iheart.com/articles/breaking-news-468861/metro-releases-final-safetrack-plan-14730880/ \n",
      "1357 http://big985country.iheart.com/articles/breaking-news-468861/metro-releases-final-safetrack-plan-14730880/ \n",
      "1358 http://big985country.iheart.com/articles/local-news-128979/registration-rising-14730293/ \n",
      "1359 http://big985country.iheart.com/articles/local-news-128979/registration-rising-14730293/ \n",
      "Unexpected error <urlopen error [SSL: CERTIFICATE_VERIFY_FAILED] certificate verify failed: Hostname mismatch, certificate is not valid for 'xl102richmond.iheart.com'. (_ssl.c:1125)> at http://xl102richmond.iheart.com/articles/breaking-news-468861/metro-releases-final-safetrack-plan-14730880/\n",
      "Unexpected error <urlopen error [SSL: CERTIFICATE_VERIFY_FAILED] certificate verify failed: Hostname mismatch, certificate is not valid for 'xl102richmond.iheart.com'. (_ssl.c:1125)> at http://xl102richmond.iheart.com/articles/breaking-news-468861/metro-releases-final-safetrack-plan-14730880/\n",
      "Unexpected error <urlopen error [SSL: CERTIFICATE_VERIFY_FAILED] certificate verify failed: Hostname mismatch, certificate is not valid for 'xl102richmond.iheart.com'. (_ssl.c:1125)> at http://xl102richmond.iheart.com/articles/breaking-news-468861/metro-releases-final-safetrack-plan-14730880/\n",
      "Unexpected error <urlopen error [SSL: CERTIFICATE_VERIFY_FAILED] certificate verify failed: Hostname mismatch, certificate is not valid for 'xl102richmond.iheart.com'. (_ssl.c:1125)> at http://xl102richmond.iheart.com/articles/breaking-news-468861/metro-releases-final-safetrack-plan-14730880/\n",
      "Unexpected error <urlopen error [SSL: CERTIFICATE_VERIFY_FAILED] certificate verify failed: Hostname mismatch, certificate is not valid for 'xl102richmond.iheart.com'. (_ssl.c:1125)> at http://xl102richmond.iheart.com/articles/breaking-news-468861/metro-releases-final-safetrack-plan-14730880/\n",
      "1430 http://961theplanet.iheart.com/articles/breaking-news-468861/metro-releases-final-safetrack-plan-14730880/ \n",
      "1431 http://961theplanet.iheart.com/articles/breaking-news-468861/metro-releases-final-safetrack-plan-14730880/ \n",
      "1432 http://961theplanet.iheart.com/articles/breaking-news-468861/metro-releases-final-safetrack-plan-14730880/ \n",
      "1433 http://961theplanet.iheart.com/articles/breaking-news-468861/metro-releases-final-safetrack-plan-14730880/ \n",
      "1434 http://961theplanet.iheart.com/articles/breaking-news-468861/metro-releases-final-safetrack-plan-14730880/ \n",
      "1440 http://q94radio.iheart.com/articles/breaking-news-468861/metro-releases-final-safetrack-plan-14730880/ \n",
      "1441 http://q94radio.iheart.com/articles/breaking-news-468861/metro-releases-final-safetrack-plan-14730880/ \n",
      "1442 http://q94radio.iheart.com/articles/breaking-news-468861/metro-releases-final-safetrack-plan-14730880/ \n",
      "1443 http://q94radio.iheart.com/articles/breaking-news-468861/metro-releases-final-safetrack-plan-14730880/ \n",
      "1444 http://q94radio.iheart.com/articles/breaking-news-468861/metro-releases-final-safetrack-plan-14730880/ \n",
      "Unexpected error <urlopen error [Errno -2] Name or service not known> at http://sunny935.iheart.com/articles/breaking-news-468861/metro-releases-final-safetrack-plan-14730880/\n",
      "Unexpected error <urlopen error [Errno -2] Name or service not known> at http://sunny935.iheart.com/articles/breaking-news-468861/metro-releases-final-safetrack-plan-14730880/\n",
      "Unexpected error <urlopen error [Errno -2] Name or service not known> at http://sunny935.iheart.com/articles/breaking-news-468861/metro-releases-final-safetrack-plan-14730880/\n",
      "Unexpected error <urlopen error [Errno -2] Name or service not known> at http://sunny935.iheart.com/articles/breaking-news-468861/metro-releases-final-safetrack-plan-14730880/\n",
      "Unexpected error <urlopen error [Errno -2] Name or service not known> at http://sunny935.iheart.com/articles/breaking-news-468861/metro-releases-final-safetrack-plan-14730880/\n",
      "Unexpected error <urlopen error [Errno -2] Name or service not known> at http://themic921.iheart.com/articles/madison-news-118857/walker-rebuffs-criticism-that-republicans-have-14737698/\n",
      "1563 http://us101country.iheart.com/onair/ken-kelley-and-daniel-52184/atheists-threaten-to-sue-over-giant-14745602/ \n",
      "1564 http://us101country.iheart.com/onair/ken-kelley-and-daniel-52184/atheists-threaten-to-sue-over-giant-14745602/ \n",
      "1565 http://us101country.iheart.com/onair/ken-kelley-and-daniel-52184/atheists-threaten-to-sue-over-giant-14745602/ \n",
      "Unexpected error <urlopen error [Errno -2] Name or service not known> at http://newstalk1440.iheart.com/articles/247-california-news-497170/kings-golden-one-center-price-tag-14747947/\n",
      "1612 http://talk910.iheart.com/articles/247-california-news-497170/kings-golden-one-center-price-tag-14747947/ \n",
      "1662 http://1065thebeat.iheart.com/articles/trending-104655/mayor-bill-de-blasio-responds-to-14756614/ \n",
      "1679 http://thebeatcolumbus.iheart.com/articles/trending-104655/mayor-bill-de-blasio-responds-to-14756614/ \n",
      "1698 http://wild1049stl.iheart.com/articles/trending-104655/mayor-bill-de-blasio-responds-to-14756614/ \n",
      "1834 http://rock105.iheart.com/articles/rock-news-104648/prophets-of-rage-plan-to-crash-14779309/ \n",
      "1917 http://wjdx.iheart.com/pages/hurricane.html \n",
      "1918 http://wjdx.iheart.com/pages/hurricane.html \n",
      "1919 http://z106.iheart.com/pages/hurricane.html \n",
      "1920 http://z106.iheart.com/pages/hurricane.html \n",
      "1921 http://miss103.iheart.com/pages/hurricane.html \n",
      "1922 http://miss103.iheart.com/pages/hurricane.html \n",
      "1923 http://hallelujah955.iheart.com/pages/hurricane.html \n",
      "1924 http://hallelujah955.iheart.com/pages/hurricane.html \n",
      "1965 http://wild1049stl.iheart.com/articles/trending-104655/nyc-mayor-bill-de-blasio-is-14795297/ \n",
      "1978 http://1065thebeat.iheart.com/articles/trending-104655/nyc-mayor-bill-de-blasio-is-14795297/ \n",
      "2000\n",
      "2005 http://kisschattanooga.iheart.com/articles/trending-104650/nyc-mayor-bill-de-blasio-is-14795297/ \n",
      "2047 http://now105.iheart.com/articles/trending-104650/nyc-mayor-bill-de-blasio-is-14795297/ \n",
      "2055 http://q94radio.iheart.com/articles/trending-104650/nyc-mayor-bill-de-blasio-is-14795297/ \n",
      "2131 http://thebeatcolumbus.iheart.com/articles/trending-104655/nyc-mayor-bill-de-blasio-is-14795297/ \n",
      "Unexpected error <urlopen error [Errno -2] Name or service not known> at http://953theriver.iheart.com/articles/national-news-104668/mass-casualty-situation-after-shooting-at-14805428/\n",
      "Unexpected error <urlopen error [Errno -2] Name or service not known> at http://953theriver.iheart.com/articles/national-news-104668/mass-casualty-situation-after-shooting-at-14805428/\n",
      "Unexpected error <urlopen error [Errno -2] Name or service not known> at http://1400thescore.iheart.com/articles/national-news-104668/mass-casualty-situation-after-shooting-at-14805428/\n",
      "Unexpected error <urlopen error [Errno -2] Name or service not known> at http://1400thescore.iheart.com/articles/national-news-104668/mass-casualty-situation-after-shooting-at-14805428/\n",
      "2493 http://981thelake.iheart.com/articles/national-news-104668/mass-casualty-situation-after-shooting-at-14805428/ \n",
      "2494 http://981thelake.iheart.com/articles/national-news-104668/mass-casualty-situation-after-shooting-at-14805428/ \n",
      "2499 http://us101country.iheart.com/articles/national-news-104668/mass-casualty-situation-after-shooting-at-14805428/ \n",
      "2500 http://us101country.iheart.com/articles/national-news-104668/mass-casualty-situation-after-shooting-at-14805428/ \n",
      "Unexpected error <urlopen error [Errno -3] Temporary failure in name resolution> at http://sunny985.iheart.com/articles/national-news-104668/mass-casualty-situation-after-shooting-at-14805428/\n",
      "Unexpected error <urlopen error [Errno -2] Name or service not known> at http://themic921.iheart.com/articles/national-news-104668/mass-casualty-situation-after-shooting-at-14805428/\n",
      "Unexpected error <urlopen error [Errno -2] Name or service not known> at http://themic921.iheart.com/articles/national-news-104668/mass-casualty-situation-after-shooting-at-14805428/\n",
      "Unexpected error <urlopen error [Errno -2] Name or service not known> at http://newstalk1440.iheart.com/articles/national-news-104668/mass-casualty-situation-after-shooting-at-14805428/\n",
      "Unexpected error <urlopen error [Errno -2] Name or service not known> at http://newstalk1440.iheart.com/articles/national-news-104668/mass-casualty-situation-after-shooting-at-14805428/\n",
      "2601 http://talk910.iheart.com/articles/national-news-104668/mass-casualty-situation-after-shooting-at-14805428/ \n",
      "2602 http://talk910.iheart.com/articles/national-news-104668/mass-casualty-situation-after-shooting-at-14805428/ \n"
     ]
    },
    {
     "ename": "KeyboardInterrupt",
     "evalue": "",
     "output_type": "error",
     "traceback": [
      "\u001b[0;31m---------------------------------------------------------------------------\u001b[0m",
      "\u001b[0;31mKeyboardInterrupt\u001b[0m                         Traceback (most recent call last)",
      "\u001b[0;32m<ipython-input-49-01d57223df37>\u001b[0m in \u001b[0;36m<module>\u001b[0;34m\u001b[0m\n\u001b[1;32m     12\u001b[0m     \u001b[0;32mtry\u001b[0m\u001b[0;34m:\u001b[0m\u001b[0;34m\u001b[0m\u001b[0;34m\u001b[0m\u001b[0m\n\u001b[1;32m     13\u001b[0m         \u001b[0mreq\u001b[0m \u001b[0;34m=\u001b[0m \u001b[0mRequest\u001b[0m\u001b[0;34m(\u001b[0m\u001b[0murl\u001b[0m\u001b[0;34m,\u001b[0m\u001b[0mheaders\u001b[0m\u001b[0;34m=\u001b[0m\u001b[0;34m{\u001b[0m\u001b[0;34m'User-Agent'\u001b[0m\u001b[0;34m:\u001b[0m \u001b[0;34m'Mozilla/5.0'\u001b[0m\u001b[0;34m}\u001b[0m\u001b[0;34m)\u001b[0m\u001b[0;34m\u001b[0m\u001b[0;34m\u001b[0m\u001b[0m\n\u001b[0;32m---> 14\u001b[0;31m         \u001b[0mresp\u001b[0m \u001b[0;34m=\u001b[0m \u001b[0murlopen\u001b[0m\u001b[0;34m(\u001b[0m\u001b[0mreq\u001b[0m\u001b[0;34m)\u001b[0m\u001b[0;34m\u001b[0m\u001b[0;34m\u001b[0m\u001b[0m\n\u001b[0m\u001b[1;32m     15\u001b[0m         \u001b[0mrespData\u001b[0m \u001b[0;34m=\u001b[0m \u001b[0mresp\u001b[0m\u001b[0;34m.\u001b[0m\u001b[0mread\u001b[0m\u001b[0;34m(\u001b[0m\u001b[0;34m)\u001b[0m\u001b[0;34m\u001b[0m\u001b[0;34m\u001b[0m\u001b[0m\n\u001b[1;32m     16\u001b[0m \u001b[0;34m\u001b[0m\u001b[0m\n",
      "\u001b[0;32m/usr/lib/python3.8/urllib/request.py\u001b[0m in \u001b[0;36murlopen\u001b[0;34m(url, data, timeout, cafile, capath, cadefault, context)\u001b[0m\n\u001b[1;32m    220\u001b[0m     \u001b[0;32melse\u001b[0m\u001b[0;34m:\u001b[0m\u001b[0;34m\u001b[0m\u001b[0;34m\u001b[0m\u001b[0m\n\u001b[1;32m    221\u001b[0m         \u001b[0mopener\u001b[0m \u001b[0;34m=\u001b[0m \u001b[0m_opener\u001b[0m\u001b[0;34m\u001b[0m\u001b[0;34m\u001b[0m\u001b[0m\n\u001b[0;32m--> 222\u001b[0;31m     \u001b[0;32mreturn\u001b[0m \u001b[0mopener\u001b[0m\u001b[0;34m.\u001b[0m\u001b[0mopen\u001b[0m\u001b[0;34m(\u001b[0m\u001b[0murl\u001b[0m\u001b[0;34m,\u001b[0m \u001b[0mdata\u001b[0m\u001b[0;34m,\u001b[0m \u001b[0mtimeout\u001b[0m\u001b[0;34m)\u001b[0m\u001b[0;34m\u001b[0m\u001b[0;34m\u001b[0m\u001b[0m\n\u001b[0m\u001b[1;32m    223\u001b[0m \u001b[0;34m\u001b[0m\u001b[0m\n\u001b[1;32m    224\u001b[0m \u001b[0;32mdef\u001b[0m \u001b[0minstall_opener\u001b[0m\u001b[0;34m(\u001b[0m\u001b[0mopener\u001b[0m\u001b[0;34m)\u001b[0m\u001b[0;34m:\u001b[0m\u001b[0;34m\u001b[0m\u001b[0;34m\u001b[0m\u001b[0m\n",
      "\u001b[0;32m/usr/lib/python3.8/urllib/request.py\u001b[0m in \u001b[0;36mopen\u001b[0;34m(self, fullurl, data, timeout)\u001b[0m\n\u001b[1;32m    523\u001b[0m \u001b[0;34m\u001b[0m\u001b[0m\n\u001b[1;32m    524\u001b[0m         \u001b[0msys\u001b[0m\u001b[0;34m.\u001b[0m\u001b[0maudit\u001b[0m\u001b[0;34m(\u001b[0m\u001b[0;34m'urllib.Request'\u001b[0m\u001b[0;34m,\u001b[0m \u001b[0mreq\u001b[0m\u001b[0;34m.\u001b[0m\u001b[0mfull_url\u001b[0m\u001b[0;34m,\u001b[0m \u001b[0mreq\u001b[0m\u001b[0;34m.\u001b[0m\u001b[0mdata\u001b[0m\u001b[0;34m,\u001b[0m \u001b[0mreq\u001b[0m\u001b[0;34m.\u001b[0m\u001b[0mheaders\u001b[0m\u001b[0;34m,\u001b[0m \u001b[0mreq\u001b[0m\u001b[0;34m.\u001b[0m\u001b[0mget_method\u001b[0m\u001b[0;34m(\u001b[0m\u001b[0;34m)\u001b[0m\u001b[0;34m)\u001b[0m\u001b[0;34m\u001b[0m\u001b[0;34m\u001b[0m\u001b[0m\n\u001b[0;32m--> 525\u001b[0;31m         \u001b[0mresponse\u001b[0m \u001b[0;34m=\u001b[0m \u001b[0mself\u001b[0m\u001b[0;34m.\u001b[0m\u001b[0m_open\u001b[0m\u001b[0;34m(\u001b[0m\u001b[0mreq\u001b[0m\u001b[0;34m,\u001b[0m \u001b[0mdata\u001b[0m\u001b[0;34m)\u001b[0m\u001b[0;34m\u001b[0m\u001b[0;34m\u001b[0m\u001b[0m\n\u001b[0m\u001b[1;32m    526\u001b[0m \u001b[0;34m\u001b[0m\u001b[0m\n\u001b[1;32m    527\u001b[0m         \u001b[0;31m# post-process response\u001b[0m\u001b[0;34m\u001b[0m\u001b[0;34m\u001b[0m\u001b[0;34m\u001b[0m\u001b[0m\n",
      "\u001b[0;32m/usr/lib/python3.8/urllib/request.py\u001b[0m in \u001b[0;36m_open\u001b[0;34m(self, req, data)\u001b[0m\n\u001b[1;32m    540\u001b[0m \u001b[0;34m\u001b[0m\u001b[0m\n\u001b[1;32m    541\u001b[0m         \u001b[0mprotocol\u001b[0m \u001b[0;34m=\u001b[0m \u001b[0mreq\u001b[0m\u001b[0;34m.\u001b[0m\u001b[0mtype\u001b[0m\u001b[0;34m\u001b[0m\u001b[0;34m\u001b[0m\u001b[0m\n\u001b[0;32m--> 542\u001b[0;31m         result = self._call_chain(self.handle_open, protocol, protocol +\n\u001b[0m\u001b[1;32m    543\u001b[0m                                   '_open', req)\n\u001b[1;32m    544\u001b[0m         \u001b[0;32mif\u001b[0m \u001b[0mresult\u001b[0m\u001b[0;34m:\u001b[0m\u001b[0;34m\u001b[0m\u001b[0;34m\u001b[0m\u001b[0m\n",
      "\u001b[0;32m/usr/lib/python3.8/urllib/request.py\u001b[0m in \u001b[0;36m_call_chain\u001b[0;34m(self, chain, kind, meth_name, *args)\u001b[0m\n\u001b[1;32m    500\u001b[0m         \u001b[0;32mfor\u001b[0m \u001b[0mhandler\u001b[0m \u001b[0;32min\u001b[0m \u001b[0mhandlers\u001b[0m\u001b[0;34m:\u001b[0m\u001b[0;34m\u001b[0m\u001b[0;34m\u001b[0m\u001b[0m\n\u001b[1;32m    501\u001b[0m             \u001b[0mfunc\u001b[0m \u001b[0;34m=\u001b[0m \u001b[0mgetattr\u001b[0m\u001b[0;34m(\u001b[0m\u001b[0mhandler\u001b[0m\u001b[0;34m,\u001b[0m \u001b[0mmeth_name\u001b[0m\u001b[0;34m)\u001b[0m\u001b[0;34m\u001b[0m\u001b[0;34m\u001b[0m\u001b[0m\n\u001b[0;32m--> 502\u001b[0;31m             \u001b[0mresult\u001b[0m \u001b[0;34m=\u001b[0m \u001b[0mfunc\u001b[0m\u001b[0;34m(\u001b[0m\u001b[0;34m*\u001b[0m\u001b[0margs\u001b[0m\u001b[0;34m)\u001b[0m\u001b[0;34m\u001b[0m\u001b[0;34m\u001b[0m\u001b[0m\n\u001b[0m\u001b[1;32m    503\u001b[0m             \u001b[0;32mif\u001b[0m \u001b[0mresult\u001b[0m \u001b[0;32mis\u001b[0m \u001b[0;32mnot\u001b[0m \u001b[0;32mNone\u001b[0m\u001b[0;34m:\u001b[0m\u001b[0;34m\u001b[0m\u001b[0;34m\u001b[0m\u001b[0m\n\u001b[1;32m    504\u001b[0m                 \u001b[0;32mreturn\u001b[0m \u001b[0mresult\u001b[0m\u001b[0;34m\u001b[0m\u001b[0;34m\u001b[0m\u001b[0m\n",
      "\u001b[0;32m/usr/lib/python3.8/urllib/request.py\u001b[0m in \u001b[0;36mhttp_open\u001b[0;34m(self, req)\u001b[0m\n\u001b[1;32m   1377\u001b[0m \u001b[0;34m\u001b[0m\u001b[0m\n\u001b[1;32m   1378\u001b[0m     \u001b[0;32mdef\u001b[0m \u001b[0mhttp_open\u001b[0m\u001b[0;34m(\u001b[0m\u001b[0mself\u001b[0m\u001b[0;34m,\u001b[0m \u001b[0mreq\u001b[0m\u001b[0;34m)\u001b[0m\u001b[0;34m:\u001b[0m\u001b[0;34m\u001b[0m\u001b[0;34m\u001b[0m\u001b[0m\n\u001b[0;32m-> 1379\u001b[0;31m         \u001b[0;32mreturn\u001b[0m \u001b[0mself\u001b[0m\u001b[0;34m.\u001b[0m\u001b[0mdo_open\u001b[0m\u001b[0;34m(\u001b[0m\u001b[0mhttp\u001b[0m\u001b[0;34m.\u001b[0m\u001b[0mclient\u001b[0m\u001b[0;34m.\u001b[0m\u001b[0mHTTPConnection\u001b[0m\u001b[0;34m,\u001b[0m \u001b[0mreq\u001b[0m\u001b[0;34m)\u001b[0m\u001b[0;34m\u001b[0m\u001b[0;34m\u001b[0m\u001b[0m\n\u001b[0m\u001b[1;32m   1380\u001b[0m \u001b[0;34m\u001b[0m\u001b[0m\n\u001b[1;32m   1381\u001b[0m     \u001b[0mhttp_request\u001b[0m \u001b[0;34m=\u001b[0m \u001b[0mAbstractHTTPHandler\u001b[0m\u001b[0;34m.\u001b[0m\u001b[0mdo_request_\u001b[0m\u001b[0;34m\u001b[0m\u001b[0;34m\u001b[0m\u001b[0m\n",
      "\u001b[0;32m/usr/lib/python3.8/urllib/request.py\u001b[0m in \u001b[0;36mdo_open\u001b[0;34m(self, http_class, req, **http_conn_args)\u001b[0m\n\u001b[1;32m   1348\u001b[0m         \u001b[0;32mtry\u001b[0m\u001b[0;34m:\u001b[0m\u001b[0;34m\u001b[0m\u001b[0;34m\u001b[0m\u001b[0m\n\u001b[1;32m   1349\u001b[0m             \u001b[0;32mtry\u001b[0m\u001b[0;34m:\u001b[0m\u001b[0;34m\u001b[0m\u001b[0;34m\u001b[0m\u001b[0m\n\u001b[0;32m-> 1350\u001b[0;31m                 h.request(req.get_method(), req.selector, req.data, headers,\n\u001b[0m\u001b[1;32m   1351\u001b[0m                           encode_chunked=req.has_header('Transfer-encoding'))\n\u001b[1;32m   1352\u001b[0m             \u001b[0;32mexcept\u001b[0m \u001b[0mOSError\u001b[0m \u001b[0;32mas\u001b[0m \u001b[0merr\u001b[0m\u001b[0;34m:\u001b[0m \u001b[0;31m# timeout error\u001b[0m\u001b[0;34m\u001b[0m\u001b[0;34m\u001b[0m\u001b[0m\n",
      "\u001b[0;32m/usr/lib/python3.8/http/client.py\u001b[0m in \u001b[0;36mrequest\u001b[0;34m(self, method, url, body, headers, encode_chunked)\u001b[0m\n\u001b[1;32m   1253\u001b[0m                 encode_chunked=False):\n\u001b[1;32m   1254\u001b[0m         \u001b[0;34m\"\"\"Send a complete request to the server.\"\"\"\u001b[0m\u001b[0;34m\u001b[0m\u001b[0;34m\u001b[0m\u001b[0m\n\u001b[0;32m-> 1255\u001b[0;31m         \u001b[0mself\u001b[0m\u001b[0;34m.\u001b[0m\u001b[0m_send_request\u001b[0m\u001b[0;34m(\u001b[0m\u001b[0mmethod\u001b[0m\u001b[0;34m,\u001b[0m \u001b[0murl\u001b[0m\u001b[0;34m,\u001b[0m \u001b[0mbody\u001b[0m\u001b[0;34m,\u001b[0m \u001b[0mheaders\u001b[0m\u001b[0;34m,\u001b[0m \u001b[0mencode_chunked\u001b[0m\u001b[0;34m)\u001b[0m\u001b[0;34m\u001b[0m\u001b[0;34m\u001b[0m\u001b[0m\n\u001b[0m\u001b[1;32m   1256\u001b[0m \u001b[0;34m\u001b[0m\u001b[0m\n\u001b[1;32m   1257\u001b[0m     \u001b[0;32mdef\u001b[0m \u001b[0m_send_request\u001b[0m\u001b[0;34m(\u001b[0m\u001b[0mself\u001b[0m\u001b[0;34m,\u001b[0m \u001b[0mmethod\u001b[0m\u001b[0;34m,\u001b[0m \u001b[0murl\u001b[0m\u001b[0;34m,\u001b[0m \u001b[0mbody\u001b[0m\u001b[0;34m,\u001b[0m \u001b[0mheaders\u001b[0m\u001b[0;34m,\u001b[0m \u001b[0mencode_chunked\u001b[0m\u001b[0;34m)\u001b[0m\u001b[0;34m:\u001b[0m\u001b[0;34m\u001b[0m\u001b[0;34m\u001b[0m\u001b[0m\n",
      "\u001b[0;32m/usr/lib/python3.8/http/client.py\u001b[0m in \u001b[0;36m_send_request\u001b[0;34m(self, method, url, body, headers, encode_chunked)\u001b[0m\n\u001b[1;32m   1299\u001b[0m             \u001b[0;31m# default charset of iso-8859-1.\u001b[0m\u001b[0;34m\u001b[0m\u001b[0;34m\u001b[0m\u001b[0;34m\u001b[0m\u001b[0m\n\u001b[1;32m   1300\u001b[0m             \u001b[0mbody\u001b[0m \u001b[0;34m=\u001b[0m \u001b[0m_encode\u001b[0m\u001b[0;34m(\u001b[0m\u001b[0mbody\u001b[0m\u001b[0;34m,\u001b[0m \u001b[0;34m'body'\u001b[0m\u001b[0;34m)\u001b[0m\u001b[0;34m\u001b[0m\u001b[0;34m\u001b[0m\u001b[0m\n\u001b[0;32m-> 1301\u001b[0;31m         \u001b[0mself\u001b[0m\u001b[0;34m.\u001b[0m\u001b[0mendheaders\u001b[0m\u001b[0;34m(\u001b[0m\u001b[0mbody\u001b[0m\u001b[0;34m,\u001b[0m \u001b[0mencode_chunked\u001b[0m\u001b[0;34m=\u001b[0m\u001b[0mencode_chunked\u001b[0m\u001b[0;34m)\u001b[0m\u001b[0;34m\u001b[0m\u001b[0;34m\u001b[0m\u001b[0m\n\u001b[0m\u001b[1;32m   1302\u001b[0m \u001b[0;34m\u001b[0m\u001b[0m\n\u001b[1;32m   1303\u001b[0m     \u001b[0;32mdef\u001b[0m \u001b[0mgetresponse\u001b[0m\u001b[0;34m(\u001b[0m\u001b[0mself\u001b[0m\u001b[0;34m)\u001b[0m\u001b[0;34m:\u001b[0m\u001b[0;34m\u001b[0m\u001b[0;34m\u001b[0m\u001b[0m\n",
      "\u001b[0;32m/usr/lib/python3.8/http/client.py\u001b[0m in \u001b[0;36mendheaders\u001b[0;34m(self, message_body, encode_chunked)\u001b[0m\n\u001b[1;32m   1248\u001b[0m         \u001b[0;32melse\u001b[0m\u001b[0;34m:\u001b[0m\u001b[0;34m\u001b[0m\u001b[0;34m\u001b[0m\u001b[0m\n\u001b[1;32m   1249\u001b[0m             \u001b[0;32mraise\u001b[0m \u001b[0mCannotSendHeader\u001b[0m\u001b[0;34m(\u001b[0m\u001b[0;34m)\u001b[0m\u001b[0;34m\u001b[0m\u001b[0;34m\u001b[0m\u001b[0m\n\u001b[0;32m-> 1250\u001b[0;31m         \u001b[0mself\u001b[0m\u001b[0;34m.\u001b[0m\u001b[0m_send_output\u001b[0m\u001b[0;34m(\u001b[0m\u001b[0mmessage_body\u001b[0m\u001b[0;34m,\u001b[0m \u001b[0mencode_chunked\u001b[0m\u001b[0;34m=\u001b[0m\u001b[0mencode_chunked\u001b[0m\u001b[0;34m)\u001b[0m\u001b[0;34m\u001b[0m\u001b[0;34m\u001b[0m\u001b[0m\n\u001b[0m\u001b[1;32m   1251\u001b[0m \u001b[0;34m\u001b[0m\u001b[0m\n\u001b[1;32m   1252\u001b[0m     def request(self, method, url, body=None, headers={}, *,\n",
      "\u001b[0;32m/usr/lib/python3.8/http/client.py\u001b[0m in \u001b[0;36m_send_output\u001b[0;34m(self, message_body, encode_chunked)\u001b[0m\n\u001b[1;32m   1008\u001b[0m         \u001b[0mmsg\u001b[0m \u001b[0;34m=\u001b[0m \u001b[0;34mb\"\\r\\n\"\u001b[0m\u001b[0;34m.\u001b[0m\u001b[0mjoin\u001b[0m\u001b[0;34m(\u001b[0m\u001b[0mself\u001b[0m\u001b[0;34m.\u001b[0m\u001b[0m_buffer\u001b[0m\u001b[0;34m)\u001b[0m\u001b[0;34m\u001b[0m\u001b[0;34m\u001b[0m\u001b[0m\n\u001b[1;32m   1009\u001b[0m         \u001b[0;32mdel\u001b[0m \u001b[0mself\u001b[0m\u001b[0;34m.\u001b[0m\u001b[0m_buffer\u001b[0m\u001b[0;34m[\u001b[0m\u001b[0;34m:\u001b[0m\u001b[0;34m]\u001b[0m\u001b[0;34m\u001b[0m\u001b[0;34m\u001b[0m\u001b[0m\n\u001b[0;32m-> 1010\u001b[0;31m         \u001b[0mself\u001b[0m\u001b[0;34m.\u001b[0m\u001b[0msend\u001b[0m\u001b[0;34m(\u001b[0m\u001b[0mmsg\u001b[0m\u001b[0;34m)\u001b[0m\u001b[0;34m\u001b[0m\u001b[0;34m\u001b[0m\u001b[0m\n\u001b[0m\u001b[1;32m   1011\u001b[0m \u001b[0;34m\u001b[0m\u001b[0m\n\u001b[1;32m   1012\u001b[0m         \u001b[0;32mif\u001b[0m \u001b[0mmessage_body\u001b[0m \u001b[0;32mis\u001b[0m \u001b[0;32mnot\u001b[0m \u001b[0;32mNone\u001b[0m\u001b[0;34m:\u001b[0m\u001b[0;34m\u001b[0m\u001b[0;34m\u001b[0m\u001b[0m\n",
      "\u001b[0;32m/usr/lib/python3.8/http/client.py\u001b[0m in \u001b[0;36msend\u001b[0;34m(self, data)\u001b[0m\n\u001b[1;32m    948\u001b[0m         \u001b[0;32mif\u001b[0m \u001b[0mself\u001b[0m\u001b[0;34m.\u001b[0m\u001b[0msock\u001b[0m \u001b[0;32mis\u001b[0m \u001b[0;32mNone\u001b[0m\u001b[0;34m:\u001b[0m\u001b[0;34m\u001b[0m\u001b[0;34m\u001b[0m\u001b[0m\n\u001b[1;32m    949\u001b[0m             \u001b[0;32mif\u001b[0m \u001b[0mself\u001b[0m\u001b[0;34m.\u001b[0m\u001b[0mauto_open\u001b[0m\u001b[0;34m:\u001b[0m\u001b[0;34m\u001b[0m\u001b[0;34m\u001b[0m\u001b[0m\n\u001b[0;32m--> 950\u001b[0;31m                 \u001b[0mself\u001b[0m\u001b[0;34m.\u001b[0m\u001b[0mconnect\u001b[0m\u001b[0;34m(\u001b[0m\u001b[0;34m)\u001b[0m\u001b[0;34m\u001b[0m\u001b[0;34m\u001b[0m\u001b[0m\n\u001b[0m\u001b[1;32m    951\u001b[0m             \u001b[0;32melse\u001b[0m\u001b[0;34m:\u001b[0m\u001b[0;34m\u001b[0m\u001b[0;34m\u001b[0m\u001b[0m\n\u001b[1;32m    952\u001b[0m                 \u001b[0;32mraise\u001b[0m \u001b[0mNotConnected\u001b[0m\u001b[0;34m(\u001b[0m\u001b[0;34m)\u001b[0m\u001b[0;34m\u001b[0m\u001b[0;34m\u001b[0m\u001b[0m\n",
      "\u001b[0;32m/usr/lib/python3.8/http/client.py\u001b[0m in \u001b[0;36mconnect\u001b[0;34m(self)\u001b[0m\n\u001b[1;32m    919\u001b[0m     \u001b[0;32mdef\u001b[0m \u001b[0mconnect\u001b[0m\u001b[0;34m(\u001b[0m\u001b[0mself\u001b[0m\u001b[0;34m)\u001b[0m\u001b[0;34m:\u001b[0m\u001b[0;34m\u001b[0m\u001b[0;34m\u001b[0m\u001b[0m\n\u001b[1;32m    920\u001b[0m         \u001b[0;34m\"\"\"Connect to the host and port specified in __init__.\"\"\"\u001b[0m\u001b[0;34m\u001b[0m\u001b[0;34m\u001b[0m\u001b[0m\n\u001b[0;32m--> 921\u001b[0;31m         self.sock = self._create_connection(\n\u001b[0m\u001b[1;32m    922\u001b[0m             (self.host,self.port), self.timeout, self.source_address)\n\u001b[1;32m    923\u001b[0m         \u001b[0mself\u001b[0m\u001b[0;34m.\u001b[0m\u001b[0msock\u001b[0m\u001b[0;34m.\u001b[0m\u001b[0msetsockopt\u001b[0m\u001b[0;34m(\u001b[0m\u001b[0msocket\u001b[0m\u001b[0;34m.\u001b[0m\u001b[0mIPPROTO_TCP\u001b[0m\u001b[0;34m,\u001b[0m \u001b[0msocket\u001b[0m\u001b[0;34m.\u001b[0m\u001b[0mTCP_NODELAY\u001b[0m\u001b[0;34m,\u001b[0m \u001b[0;36m1\u001b[0m\u001b[0;34m)\u001b[0m\u001b[0;34m\u001b[0m\u001b[0;34m\u001b[0m\u001b[0m\n",
      "\u001b[0;32m/usr/lib/python3.8/socket.py\u001b[0m in \u001b[0;36mcreate_connection\u001b[0;34m(address, timeout, source_address)\u001b[0m\n\u001b[1;32m    794\u001b[0m             \u001b[0;32mif\u001b[0m \u001b[0msource_address\u001b[0m\u001b[0;34m:\u001b[0m\u001b[0;34m\u001b[0m\u001b[0;34m\u001b[0m\u001b[0m\n\u001b[1;32m    795\u001b[0m                 \u001b[0msock\u001b[0m\u001b[0;34m.\u001b[0m\u001b[0mbind\u001b[0m\u001b[0;34m(\u001b[0m\u001b[0msource_address\u001b[0m\u001b[0;34m)\u001b[0m\u001b[0;34m\u001b[0m\u001b[0;34m\u001b[0m\u001b[0m\n\u001b[0;32m--> 796\u001b[0;31m             \u001b[0msock\u001b[0m\u001b[0;34m.\u001b[0m\u001b[0mconnect\u001b[0m\u001b[0;34m(\u001b[0m\u001b[0msa\u001b[0m\u001b[0;34m)\u001b[0m\u001b[0;34m\u001b[0m\u001b[0;34m\u001b[0m\u001b[0m\n\u001b[0m\u001b[1;32m    797\u001b[0m             \u001b[0;31m# Break explicitly a reference cycle\u001b[0m\u001b[0;34m\u001b[0m\u001b[0;34m\u001b[0m\u001b[0;34m\u001b[0m\u001b[0m\n\u001b[1;32m    798\u001b[0m             \u001b[0merr\u001b[0m \u001b[0;34m=\u001b[0m \u001b[0;32mNone\u001b[0m\u001b[0;34m\u001b[0m\u001b[0;34m\u001b[0m\u001b[0m\n",
      "\u001b[0;31mKeyboardInterrupt\u001b[0m: "
     ]
    }
   ],
   "source": [
    "counter=0\n",
    "for row in urls_iheart.itertuples():\n",
    "    \n",
    "    #print (row[40:42],row[44],row[-1])\n",
    "#     if counter < 225:\n",
    "#         counter+=1\n",
    "#         continue\n",
    "    url = row[2]\n",
    "    if counter % 1000==0:\n",
    "        print(counter)\n",
    "\n",
    "    try:\n",
    "        req = Request(url,headers={'User-Agent': 'Mozilla/5.0'})\n",
    "        resp = urlopen(req)\n",
    "        respData = resp.read()\n",
    "\n",
    "        paragraphs = re.findall(r'<p>(.*?)</p>',str(respData))\n",
    "        rawtext=''\n",
    "        for eachP in paragraphs:\n",
    "            rawtext+=eachP.replace(\"|\", \" \")\n",
    "        print(counter,url,rawtext)\n",
    "    except urllib.request.HTTPError as e:\n",
    "        pass\n",
    "        #print('http error')\n",
    "    except Exception as e:\n",
    "        print(f\"Unexpected error {e} at {url}\")\n",
    "    counter +=1\n",
    "#     if counter > 20:\n",
    "#         break\n"
   ]
  },
  {
   "cell_type": "code",
   "execution_count": null,
   "metadata": {},
   "outputs": [],
   "source": []
  },
  {
   "cell_type": "code",
   "execution_count": 12,
   "metadata": {},
   "outputs": [
    {
     "data": {
      "text/html": [
       "<div>\n",
       "<style scoped>\n",
       "    .dataframe tbody tr th:only-of-type {\n",
       "        vertical-align: middle;\n",
       "    }\n",
       "\n",
       "    .dataframe tbody tr th {\n",
       "        vertical-align: top;\n",
       "    }\n",
       "\n",
       "    .dataframe thead th {\n",
       "        text-align: right;\n",
       "    }\n",
       "</style>\n",
       "<table border=\"1\" class=\"dataframe\">\n",
       "  <thead>\n",
       "    <tr style=\"text-align: right;\">\n",
       "      <th></th>\n",
       "      <th>domain</th>\n",
       "      <th>place</th>\n",
       "      <th>lat</th>\n",
       "      <th>lng</th>\n",
       "    </tr>\n",
       "  </thead>\n",
       "  <tbody>\n",
       "    <tr>\n",
       "      <th>9725</th>\n",
       "      <td>gwdtoday.com</td>\n",
       "      <td>302420</td>\n",
       "      <td>302420</td>\n",
       "      <td>302420</td>\n",
       "    </tr>\n",
       "    <tr>\n",
       "      <th>10784</th>\n",
       "      <td>iheart.com</td>\n",
       "      <td>195976</td>\n",
       "      <td>195976</td>\n",
       "      <td>195976</td>\n",
       "    </tr>\n",
       "    <tr>\n",
       "      <th>25464</th>\n",
       "      <td>web.nmusd.us</td>\n",
       "      <td>187845</td>\n",
       "      <td>187845</td>\n",
       "      <td>187845</td>\n",
       "    </tr>\n",
       "    <tr>\n",
       "      <th>15219</th>\n",
       "      <td>msn.com</td>\n",
       "      <td>178674</td>\n",
       "      <td>178674</td>\n",
       "      <td>178674</td>\n",
       "    </tr>\n",
       "    <tr>\n",
       "      <th>26768</th>\n",
       "      <td>yahoo.com</td>\n",
       "      <td>174605</td>\n",
       "      <td>174605</td>\n",
       "      <td>174605</td>\n",
       "    </tr>\n",
       "    <tr>\n",
       "      <th>...</th>\n",
       "      <td>...</td>\n",
       "      <td>...</td>\n",
       "      <td>...</td>\n",
       "      <td>...</td>\n",
       "    </tr>\n",
       "    <tr>\n",
       "      <th>10197</th>\n",
       "      <td>hiphollywood.com</td>\n",
       "      <td>1</td>\n",
       "      <td>1</td>\n",
       "      <td>1</td>\n",
       "    </tr>\n",
       "    <tr>\n",
       "      <th>3862</th>\n",
       "      <td>capitalspectator.com</td>\n",
       "      <td>1</td>\n",
       "      <td>1</td>\n",
       "      <td>1</td>\n",
       "    </tr>\n",
       "    <tr>\n",
       "      <th>10200</th>\n",
       "      <td>hiphopnewsfeed.com</td>\n",
       "      <td>1</td>\n",
       "      <td>1</td>\n",
       "      <td>1</td>\n",
       "    </tr>\n",
       "    <tr>\n",
       "      <th>20803</th>\n",
       "      <td>sonic1029.com</td>\n",
       "      <td>1</td>\n",
       "      <td>1</td>\n",
       "      <td>1</td>\n",
       "    </tr>\n",
       "    <tr>\n",
       "      <th>8594</th>\n",
       "      <td>foxtrotindiasierrahotel.com</td>\n",
       "      <td>1</td>\n",
       "      <td>1</td>\n",
       "      <td>1</td>\n",
       "    </tr>\n",
       "  </tbody>\n",
       "</table>\n",
       "<p>27003 rows × 4 columns</p>\n",
       "</div>"
      ],
      "text/plain": [
       "                            domain   place     lat     lng\n",
       "9725                  gwdtoday.com  302420  302420  302420\n",
       "10784                   iheart.com  195976  195976  195976\n",
       "25464                 web.nmusd.us  187845  187845  187845\n",
       "15219                      msn.com  178674  178674  178674\n",
       "26768                    yahoo.com  174605  174605  174605\n",
       "...                            ...     ...     ...     ...\n",
       "10197             hiphollywood.com       1       1       1\n",
       "3862          capitalspectator.com       1       1       1\n",
       "10200           hiphopnewsfeed.com       1       1       1\n",
       "20803                sonic1029.com       1       1       1\n",
       "8594   foxtrotindiasierrahotel.com       1       1       1\n",
       "\n",
       "[27003 rows x 4 columns]"
      ]
     },
     "execution_count": 12,
     "metadata": {},
     "output_type": "execute_result"
    }
   ],
   "source": [
    "full_df.groupby('domain').count().reset_index().sort_values('place',ascending=False)"
   ]
  },
  {
   "cell_type": "code",
   "execution_count": 9,
   "metadata": {},
   "outputs": [
    {
     "data": {
      "text/plain": [
       "27004"
      ]
     },
     "execution_count": 9,
     "metadata": {},
     "output_type": "execute_result"
    }
   ],
   "source": [
    "len(full_df.domain.unique())"
   ]
  },
  {
   "cell_type": "code",
   "execution_count": 34,
   "metadata": {},
   "outputs": [],
   "source": [
    "pd.DataFrame(results).to_csv(outfile,index=False)"
   ]
  },
  {
   "cell_type": "code",
   "execution_count": 38,
   "metadata": {},
   "outputs": [],
   "source": [
    "with open(errfile, 'w') as f:\n",
    "    for item in error_fpaths:\n",
    "        f.write(f\"{item}\\n\")"
   ]
  },
  {
   "cell_type": "code",
   "execution_count": 33,
   "metadata": {},
   "outputs": [
    {
     "data": {
      "text/html": [
       "<div>\n",
       "<style scoped>\n",
       "    .dataframe tbody tr th:only-of-type {\n",
       "        vertical-align: middle;\n",
       "    }\n",
       "\n",
       "    .dataframe tbody tr th {\n",
       "        vertical-align: top;\n",
       "    }\n",
       "\n",
       "    .dataframe thead th {\n",
       "        text-align: right;\n",
       "    }\n",
       "</style>\n",
       "<table border=\"1\" class=\"dataframe\">\n",
       "  <thead>\n",
       "    <tr style=\"text-align: right;\">\n",
       "      <th></th>\n",
       "      <th>0</th>\n",
       "      <th>1</th>\n",
       "      <th>2</th>\n",
       "    </tr>\n",
       "  </thead>\n",
       "  <tbody>\n",
       "    <tr>\n",
       "      <th>0</th>\n",
       "      <td>20201216000000-107</td>\n",
       "      <td>https://www.upi.com/Top_News/US/2020/12/15/Bid...</td>\n",
       "      <td>{'Texas, United States': ['2', 'Texas, United ...</td>\n",
       "    </tr>\n",
       "    <tr>\n",
       "      <th>1</th>\n",
       "      <td>20201216000000-245</td>\n",
       "      <td>https://www.usatoday.com/story/news/politics/e...</td>\n",
       "      <td>{'Texas, United States': ['2', 'Texas, United ...</td>\n",
       "    </tr>\n",
       "    <tr>\n",
       "      <th>2</th>\n",
       "      <td>20201216000000-297</td>\n",
       "      <td>http://www.msn.com/en-us/news/politics/joe-bid...</td>\n",
       "      <td>{'Department Of Energy, District Of Columbia, ...</td>\n",
       "    </tr>\n",
       "    <tr>\n",
       "      <th>3</th>\n",
       "      <td>20201216000000-371</td>\n",
       "      <td>https://www.sciencemag.org/news/2020/12/us-age...</td>\n",
       "      <td>{'Great Lakes, Florida, United States': ['3', ...</td>\n",
       "    </tr>\n",
       "    <tr>\n",
       "      <th>4</th>\n",
       "      <td>20201216000000-389</td>\n",
       "      <td>https://www.nbcchicago.com/news/national-inter...</td>\n",
       "      <td>{'Texas, United States': ['2', 'Texas, United ...</td>\n",
       "    </tr>\n",
       "    <tr>\n",
       "      <th>...</th>\n",
       "      <td>...</td>\n",
       "      <td>...</td>\n",
       "      <td>...</td>\n",
       "    </tr>\n",
       "    <tr>\n",
       "      <th>2487</th>\n",
       "      <td>20201217173000-2033</td>\n",
       "      <td>https://www.prnewswire.com/news-releases/advan...</td>\n",
       "      <td>{'Texas, United States': ['2', 'Texas, United ...</td>\n",
       "    </tr>\n",
       "    <tr>\n",
       "      <th>2488</th>\n",
       "      <td>20201217173000-2071</td>\n",
       "      <td>https://www.reuters.com/article/usa-biden-rega...</td>\n",
       "      <td>{'Environmental Protection Agency, District Of...</td>\n",
       "    </tr>\n",
       "    <tr>\n",
       "      <th>2489</th>\n",
       "      <td>20201217173000-2087</td>\n",
       "      <td>https://www.autoblog.com/2020/12/17/ford-bronc...</td>\n",
       "      <td>{'Dearborn, Michigan, United States': ['3', 'D...</td>\n",
       "    </tr>\n",
       "    <tr>\n",
       "      <th>2490</th>\n",
       "      <td>20201217173000-2104</td>\n",
       "      <td>https://www.msn.com/en-gb/lifestyle/style/dodg...</td>\n",
       "      <td>{'New York, United States': ['2', 'New York, U...</td>\n",
       "    </tr>\n",
       "    <tr>\n",
       "      <th>2491</th>\n",
       "      <td>20201217173000-2157</td>\n",
       "      <td>https://news.usni.org/2020/12/17/u-s-needs-res...</td>\n",
       "      <td>{'Washington, Washington, United States': ['3'...</td>\n",
       "    </tr>\n",
       "  </tbody>\n",
       "</table>\n",
       "<p>2492 rows × 3 columns</p>\n",
       "</div>"
      ],
      "text/plain": [
       "                        0                                                  1  \\\n",
       "0      20201216000000-107  https://www.upi.com/Top_News/US/2020/12/15/Bid...   \n",
       "1      20201216000000-245  https://www.usatoday.com/story/news/politics/e...   \n",
       "2      20201216000000-297  http://www.msn.com/en-us/news/politics/joe-bid...   \n",
       "3      20201216000000-371  https://www.sciencemag.org/news/2020/12/us-age...   \n",
       "4      20201216000000-389  https://www.nbcchicago.com/news/national-inter...   \n",
       "...                   ...                                                ...   \n",
       "2487  20201217173000-2033  https://www.prnewswire.com/news-releases/advan...   \n",
       "2488  20201217173000-2071  https://www.reuters.com/article/usa-biden-rega...   \n",
       "2489  20201217173000-2087  https://www.autoblog.com/2020/12/17/ford-bronc...   \n",
       "2490  20201217173000-2104  https://www.msn.com/en-gb/lifestyle/style/dodg...   \n",
       "2491  20201217173000-2157  https://news.usni.org/2020/12/17/u-s-needs-res...   \n",
       "\n",
       "                                                      2  \n",
       "0     {'Texas, United States': ['2', 'Texas, United ...  \n",
       "1     {'Texas, United States': ['2', 'Texas, United ...  \n",
       "2     {'Department Of Energy, District Of Columbia, ...  \n",
       "3     {'Great Lakes, Florida, United States': ['3', ...  \n",
       "4     {'Texas, United States': ['2', 'Texas, United ...  \n",
       "...                                                 ...  \n",
       "2487  {'Texas, United States': ['2', 'Texas, United ...  \n",
       "2488  {'Environmental Protection Agency, District Of...  \n",
       "2489  {'Dearborn, Michigan, United States': ['3', 'D...  \n",
       "2490  {'New York, United States': ['2', 'New York, U...  \n",
       "2491  {'Washington, Washington, United States': ['3'...  \n",
       "\n",
       "[2492 rows x 3 columns]"
      ]
     },
     "execution_count": 33,
     "metadata": {},
     "output_type": "execute_result"
    }
   ],
   "source": [
    "pd.DataFrame(results)"
   ]
  },
  {
   "cell_type": "markdown",
   "metadata": {},
   "source": [
    "## From Google BigQuery"
   ]
  },
  {
   "cell_type": "code",
   "execution_count": null,
   "metadata": {},
   "outputs": [],
   "source": [
    "import os\n",
    "print(os.getcwd())"
   ]
  },
  {
   "cell_type": "code",
   "execution_count": null,
   "metadata": {},
   "outputs": [],
   "source": [
    "from google.cloud import bigquery\n",
    "from google.cloud import bigquery_storage\n",
    "import pandas as pd\n",
    "client = bigquery.Client()\n",
    "bqstorageclient = bigquery_storage.BigQueryReadClient()\n",
    "\n",
    "# Perform a query.\n",
    "QUERY = (\n",
    "\n",
    "'''\n",
    "    WITH subset_query AS (\n",
    "  SELECT *  from gdelt-bq.gdeltv2.gkg \n",
    "  where DATE>20170302000000 and DATE < 20170304000000 \n",
    " limit 200\n",
    ")\n",
    "    select gid,regex_extr, ANY_VALUE(code) as level_code,ANY_VALUE(url) as url,ANY_VALUE(location) as raw_loc from \n",
    "    (select url,gid,location,regexp_extract(location, r'^[2-3]#(.*?)#') as regex_extr,\n",
    "    regexp_extract(location, r'^([2-3])#.*?') as code \n",
    "    from\n",
    "    (select subset_query.GKGRECORDID as gid ,subset_query.DocumentIdentifier as url, SPLIT(subset_query.V2Locations, ';') as split_loc\n",
    "    \n",
    "    from subset_query) CROSS JOIN UNNEST(split_loc) as location)\n",
    "    where regex_extr IS NOT NULL\n",
    "    group by gid,regex_extr\n",
    "'''\n",
    "\n",
    ")\n",
    "#print(QUERY)"
   ]
  },
  {
   "cell_type": "code",
   "execution_count": null,
   "metadata": {},
   "outputs": [],
   "source": [
    "dataframe = (\n",
    "    client.query(QUERY)\n",
    "    .result()\n",
    "    .to_dataframe(bqstorage_client=bqstorageclient)\n",
    ")\n",
    "#print(dataframe.head())"
   ]
  }
 ],
 "metadata": {
  "kernelspec": {
   "display_name": "Python 3",
   "language": "python",
   "name": "python3"
  },
  "language_info": {
   "codemirror_mode": {
    "name": "ipython",
    "version": 3
   },
   "file_extension": ".py",
   "mimetype": "text/x-python",
   "name": "python",
   "nbconvert_exporter": "python",
   "pygments_lexer": "ipython3",
   "version": "3.9.2"
  }
 },
 "nbformat": 4,
 "nbformat_minor": 4
}
